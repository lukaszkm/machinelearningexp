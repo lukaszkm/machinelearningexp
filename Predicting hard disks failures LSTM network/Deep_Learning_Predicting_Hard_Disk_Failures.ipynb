{
 "cells": [
  {
   "cell_type": "markdown",
   "metadata": {},
   "source": [
    "# 00. Intro & Goal"
   ]
  },
  {
   "cell_type": "markdown",
   "metadata": {},
   "source": [
    "Disk Failure Prediction Notebook\n",
    "* Notebook @author Lukasz Kamieniecki-Mruk, lucas.mlexp@gmail.com, http://machinelearningexp.com\n",
    "* Notebook License: Creative Commons CC-BY-SA https://creativecommons.org/licenses/by-sa/4.0/\n",
    "* Dataset source: https://www.backblaze.com/b2/hard-drive-test-data.html\n",
    "* Dataset license: As per Backblaze statement: \"You can download and use this data for free for your own purpose, all we ask is three things 1) you cite Backblaze as the source if you use the data, 2) you accept that you are solely responsible for how you use the data, and 3) you do not sell this data to anyone, it is free.\"\n",
    "* Dataset dates: years 2015 - 2017"
   ]
  },
  {
   "cell_type": "markdown",
   "metadata": {},
   "source": [
    "Your R&D task is the following:\n",
    "\n",
    "1. Use Backblaze data for one of the most popular disk model in the dataset to build demo prediction classifier for the disk failure\n",
    "2. Model should use LSTM Deep Learning networks. \n",
    "3. Model should be evaluated in details using classification report\n",
    "4. Model will be successful if it will allow to find faling disk at least 2 days in advance (to ensure safe replacement)\n",
    "\n",
    "NOTE: This notebook is CPU and memory consuming. You have been warned 🙂"
   ]
  },
  {
   "cell_type": "markdown",
   "metadata": {},
   "source": [
    "# 01. Params & imports"
   ]
  },
  {
   "cell_type": "code",
   "execution_count": 1,
   "metadata": {},
   "outputs": [
    {
     "name": "stderr",
     "output_type": "stream",
     "text": [
      "Using TensorFlow backend.\n"
     ]
    }
   ],
   "source": [
    "import os\n",
    "import gc\n",
    "import fileinput\n",
    "import math\n",
    "import random\n",
    "from random import shuffle, randrange\n",
    "import numpy as np\n",
    "import pandas as pd\n",
    "import matplotlib.pyplot as plt\n",
    "from sklearn.utils import shuffle\n",
    "from sklearn import preprocessing\n",
    "from sklearn.utils import shuffle\n",
    "from sklearn.metrics import classification_report\n",
    "import tensorflow as tf\n",
    "from keras.models import Sequential\n",
    "from keras.layers import Dense\n",
    "from keras.layers import LSTM\n",
    "from keras import regularizers,optimizers"
   ]
  },
  {
   "cell_type": "code",
   "execution_count": 2,
   "metadata": {},
   "outputs": [],
   "source": [
    "# params\n",
    "data_dir = \"./data/\"\n",
    "raw_data_dir = data_dir + 'raw_data'\n",
    "merged_data_dir = data_dir + 'merged_data'\n",
    "pretrain_data_dir = data_dir + 'pretrain_data'\n",
    "train_data_dir = data_dir + 'train_data'"
   ]
  },
  {
   "cell_type": "markdown",
   "metadata": {},
   "source": [
    "# 02. Data preprocessing"
   ]
  },
  {
   "cell_type": "markdown",
   "metadata": {},
   "source": [
    "It is very important what Backblaze writes on the data page (quote) : \"Reported stats for the same SMART stat can vary in meaning based on the drive manufacturer and the drive model. Make sure you are comparing apples-to-apples as drive manufacturers don't generally disclose what their specific numbers mean.\"\n",
    "Therefore, we cannot compare different disk types. For this reason, I decided to select one specific model for my analysis. The model I have selected (\"ST4000DM000\") is quite popular in the dataset and provides enough data for my analysis. You can try different model if you like; just make sure it provides enough data."
   ]
  },
  {
   "cell_type": "code",
   "execution_count": 3,
   "metadata": {},
   "outputs": [],
   "source": [
    "chosen_disk_model = 'ST4000DM000'\n",
    "merged_file_path = merged_data_dir+'/merged_data_2015_2017.csv'"
   ]
  },
  {
   "cell_type": "markdown",
   "metadata": {},
   "source": [
    "My \"raw_data_dir\" has 17,6 GB of data and contains 1096 CSV files. The script belowe will scan all .csv files in raw data files and will keep only first header and then only rows that contain our chosen_disk_model. As a result, we will get single merged CSV file containing only rows for our chosen_disk_model."
   ]
  },
  {
   "cell_type": "code",
   "execution_count": 4,
   "metadata": {},
   "outputs": [
    {
     "name": "stdout",
     "output_type": "stream",
     "text": [
      "Files processed: 0 > 100 > 200 > 300 > 400 > 500 > 600 > 700 > 800 > 900 > 1000 > Completed\n"
     ]
    }
   ],
   "source": [
    "print ('Files processed',end =\": \")\n",
    "with open(merged_file_path, 'w') as out_file:\n",
    "    first_line = True\n",
    "    counter = 0\n",
    "    for in_file_name in os.listdir(raw_data_dir):\n",
    "        fcontent = open(os.path.join(raw_data_dir, in_file_name))\n",
    "        for line in fcontent:\n",
    "            if (first_line == True) or (('date,serial_number' not in line) and (chosen_disk_model in line)):\n",
    "                out_file.write(line)\n",
    "            first_line = False\n",
    "        fcontent.close()\n",
    "        if ((counter%100)==0): print (counter,end =\" > \")\n",
    "        counter += 1\n",
    "    print ('Completed')"
   ]
  },
  {
   "cell_type": "markdown",
   "metadata": {},
   "source": [
    "My merged file has around 8,15 GB of data. This is still a lot of data, at least for my machine. I want to create single Pandas dataframe for further processing.\n",
    "We need to process data in chunks and downcast numerical data to save memory.\n",
    "I decided also to drop columns with normalized data, I prefer to normalize data later myself."
   ]
  },
  {
   "cell_type": "code",
   "execution_count": 5,
   "metadata": {},
   "outputs": [
    {
     "data": {
      "text/plain": [
       "7"
      ]
     },
     "execution_count": 5,
     "metadata": {},
     "output_type": "execute_result"
    }
   ],
   "source": [
    "columns_names_text = 'date,serial_number,model,capacity_bytes,failure,smart_1_normalized,smart_1_raw,smart_2_normalized,smart_2_raw,smart_3_normalized,smart_3_raw,smart_4_normalized,smart_4_raw,smart_5_normalized,smart_5_raw,smart_7_normalized,smart_7_raw,smart_8_normalized,smart_8_raw,smart_9_normalized,smart_9_raw,smart_10_normalized,smart_10_raw,smart_11_normalized,smart_11_raw,smart_12_normalized,smart_12_raw,smart_13_normalized,smart_13_raw,smart_15_normalized,smart_15_raw,smart_22_normalized,smart_22_raw,smart_183_normalized,smart_183_raw,smart_184_normalized,smart_184_raw,smart_187_normalized,smart_187_raw,smart_188_normalized,smart_188_raw,smart_189_normalized,smart_189_raw,smart_190_normalized,smart_190_raw,smart_191_normalized,smart_191_raw,smart_192_normalized,smart_192_raw,smart_193_normalized,smart_193_raw,smart_194_normalized,smart_194_raw,smart_195_normalized,smart_195_raw,smart_196_normalized,smart_196_raw,smart_197_normalized,smart_197_raw,smart_198_normalized,smart_198_raw,smart_199_normalized,smart_199_raw,smart_200_normalized,smart_200_raw,smart_201_normalized,smart_201_raw,smart_220_normalized,smart_220_raw,smart_222_normalized,smart_222_raw,smart_223_normalized,smart_223_raw,smart_224_normalized,smart_224_raw,smart_225_normalized,smart_225_raw,smart_226_normalized,smart_226_raw,smart_240_normalized,smart_240_raw,smart_241_normalized,smart_241_raw,smart_242_normalized,smart_242_raw,smart_250_normalized,smart_250_raw,smart_251_normalized,smart_251_raw,smart_252_normalized,smart_252_raw,smart_254_normalized,smart_254_raw,smart_255_normalized,smart_255_raw'\n",
    "columns_names = columns_names_text.split(',')\n",
    "columns_to_drop = [col for col in columns_names if '_normalized' in col]\n",
    "gc.collect()"
   ]
  },
  {
   "cell_type": "markdown",
   "metadata": {},
   "source": [
    "Be patient, this step can consume a lot of memory and be slow."
   ]
  },
  {
   "cell_type": "code",
   "execution_count": 6,
   "metadata": {},
   "outputs": [
    {
     "name": "stdout",
     "output_type": "stream",
     "text": [
      "Chunks: 50 > 100 > 150 > 200 > 250 > 300 > Completed\n"
     ]
    }
   ],
   "source": [
    "chunksize = 10 ** 5\n",
    "chunks_list = list()\n",
    "print ('Chunks: ',end =\"\")\n",
    "for chunk in pd.read_csv(merged_file_path, header = 0 ,names=columns_names, chunksize=chunksize, low_memory=False):\n",
    "    chunk = chunk.drop(columns_to_drop, axis=1)\n",
    "    chunk_first_rows = chunk.iloc[:,0:4]\n",
    "    chunk_num_rows = chunk.iloc[:,4:].fillna(0)\n",
    "    chunk_num_rows = chunk_num_rows.astype('int64')\n",
    "    chunk_num_rows = chunk_num_rows.apply(pd.to_numeric,downcast='integer')\n",
    "    chunk_all = chunk_first_rows.join(chunk_num_rows)\n",
    "    chunks_list.append(chunk_all)\n",
    "    if ((len(chunks_list)%50)==0): print (len(chunks_list), end=\" > \")\n",
    "    gc.collect() \n",
    "print ('Completed')"
   ]
  },
  {
   "cell_type": "markdown",
   "metadata": {},
   "source": [
    "Now we will a) merge all chunks into one dataframe b) drop columns with empty values c) generate column with weekday and d) save it to pickle file."
   ]
  },
  {
   "cell_type": "code",
   "execution_count": 7,
   "metadata": {},
   "outputs": [
    {
     "data": {
      "text/html": [
       "<div>\n",
       "<style scoped>\n",
       "    .dataframe tbody tr th:only-of-type {\n",
       "        vertical-align: middle;\n",
       "    }\n",
       "\n",
       "    .dataframe tbody tr th {\n",
       "        vertical-align: top;\n",
       "    }\n",
       "\n",
       "    .dataframe thead th {\n",
       "        text-align: right;\n",
       "    }\n",
       "</style>\n",
       "<table border=\"1\" class=\"dataframe\">\n",
       "  <thead>\n",
       "    <tr style=\"text-align: right;\">\n",
       "      <th></th>\n",
       "      <th>date</th>\n",
       "      <th>weekday</th>\n",
       "      <th>serial_number</th>\n",
       "      <th>capacity_bytes</th>\n",
       "      <th>failure</th>\n",
       "      <th>smart_1_raw</th>\n",
       "      <th>smart_2_raw</th>\n",
       "      <th>smart_3_raw</th>\n",
       "      <th>smart_4_raw</th>\n",
       "      <th>smart_5_raw</th>\n",
       "      <th>smart_7_raw</th>\n",
       "      <th>smart_8_raw</th>\n",
       "    </tr>\n",
       "  </thead>\n",
       "  <tbody>\n",
       "    <tr>\n",
       "      <th>0</th>\n",
       "      <td>2016-09-10</td>\n",
       "      <td>5</td>\n",
       "      <td>S3000A9T</td>\n",
       "      <td>4000787030016</td>\n",
       "      <td>0</td>\n",
       "      <td>14415968</td>\n",
       "      <td>0</td>\n",
       "      <td>0</td>\n",
       "      <td>4</td>\n",
       "      <td>0</td>\n",
       "      <td>97797</td>\n",
       "      <td>0</td>\n",
       "    </tr>\n",
       "    <tr>\n",
       "      <th>1</th>\n",
       "      <td>2016-09-11</td>\n",
       "      <td>6</td>\n",
       "      <td>S3000A9T</td>\n",
       "      <td>4000787030016</td>\n",
       "      <td>1</td>\n",
       "      <td>57961664</td>\n",
       "      <td>0</td>\n",
       "      <td>0</td>\n",
       "      <td>4</td>\n",
       "      <td>0</td>\n",
       "      <td>256456</td>\n",
       "      <td>0</td>\n",
       "    </tr>\n",
       "    <tr>\n",
       "      <th>2</th>\n",
       "      <td>2017-06-03</td>\n",
       "      <td>5</td>\n",
       "      <td>S3000A9T</td>\n",
       "      <td>4000787030016</td>\n",
       "      <td>0</td>\n",
       "      <td>107687208</td>\n",
       "      <td>0</td>\n",
       "      <td>0</td>\n",
       "      <td>33</td>\n",
       "      <td>0</td>\n",
       "      <td>33158496</td>\n",
       "      <td>0</td>\n",
       "    </tr>\n",
       "    <tr>\n",
       "      <th>3</th>\n",
       "      <td>2017-06-04</td>\n",
       "      <td>6</td>\n",
       "      <td>S3000A9T</td>\n",
       "      <td>4000787030016</td>\n",
       "      <td>0</td>\n",
       "      <td>132850464</td>\n",
       "      <td>0</td>\n",
       "      <td>0</td>\n",
       "      <td>33</td>\n",
       "      <td>0</td>\n",
       "      <td>33315265</td>\n",
       "      <td>0</td>\n",
       "    </tr>\n",
       "    <tr>\n",
       "      <th>4</th>\n",
       "      <td>2017-06-05</td>\n",
       "      <td>0</td>\n",
       "      <td>S3000A9T</td>\n",
       "      <td>4000787030016</td>\n",
       "      <td>0</td>\n",
       "      <td>176573128</td>\n",
       "      <td>0</td>\n",
       "      <td>0</td>\n",
       "      <td>33</td>\n",
       "      <td>0</td>\n",
       "      <td>33376638</td>\n",
       "      <td>0</td>\n",
       "    </tr>\n",
       "  </tbody>\n",
       "</table>\n",
       "</div>"
      ],
      "text/plain": [
       "        date  weekday serial_number  capacity_bytes  failure  smart_1_raw  \\\n",
       "0 2016-09-10        5      S3000A9T   4000787030016        0     14415968   \n",
       "1 2016-09-11        6      S3000A9T   4000787030016        1     57961664   \n",
       "2 2017-06-03        5      S3000A9T   4000787030016        0    107687208   \n",
       "3 2017-06-04        6      S3000A9T   4000787030016        0    132850464   \n",
       "4 2017-06-05        0      S3000A9T   4000787030016        0    176573128   \n",
       "\n",
       "   smart_2_raw  smart_3_raw  smart_4_raw  smart_5_raw  smart_7_raw  \\\n",
       "0            0            0            4            0        97797   \n",
       "1            0            0            4            0       256456   \n",
       "2            0            0           33            0     33158496   \n",
       "3            0            0           33            0     33315265   \n",
       "4            0            0           33            0     33376638   \n",
       "\n",
       "   smart_8_raw  \n",
       "0            0  \n",
       "1            0  \n",
       "2            0  \n",
       "3            0  \n",
       "4            0  "
      ]
     },
     "execution_count": 7,
     "metadata": {},
     "output_type": "execute_result"
    }
   ],
   "source": [
    "reduced_df = pd.concat(chunks_list)\n",
    "reduced_df = reduced_df.dropna(axis=1)\n",
    "reduced_df['date'] = pd.to_datetime(reduced_df['date'])\n",
    "reduced_df.insert(1, 'weekday', reduced_df['date'].dt.dayofweek)\n",
    "reduced_df = reduced_df.sort_values(by=['serial_number','date'],axis=0)\n",
    "reduced_df = reduced_df.drop(columns=['model'])\n",
    "reduced_df = reduced_df.reset_index(drop=True)\n",
    "reduced_df.iloc[0:5,:12]"
   ]
  },
  {
   "cell_type": "code",
   "execution_count": 8,
   "metadata": {},
   "outputs": [],
   "source": [
    "reduced_df.to_pickle(pretrain_data_dir+'/pretrain_data_01.pkl')"
   ]
  },
  {
   "cell_type": "markdown",
   "metadata": {},
   "source": [
    "Let's clean some memory before further processing"
   ]
  },
  {
   "cell_type": "code",
   "execution_count": 9,
   "metadata": {},
   "outputs": [
    {
     "data": {
      "text/plain": [
       "80"
      ]
     },
     "execution_count": 9,
     "metadata": {},
     "output_type": "execute_result"
    }
   ],
   "source": [
    "del (reduced_df, chunks_list)\n",
    "gc.collect()"
   ]
  },
  {
   "cell_type": "markdown",
   "metadata": {},
   "source": [
    "# 03A. Training data prepration"
   ]
  },
  {
   "cell_type": "markdown",
   "metadata": {},
   "source": [
    "Let's load prepared data"
   ]
  },
  {
   "cell_type": "code",
   "execution_count": 10,
   "metadata": {},
   "outputs": [
    {
     "name": "stdout",
     "output_type": "stream",
     "text": [
      "Data shape:  (31414293, 50)\n"
     ]
    }
   ],
   "source": [
    "df = pd.read_pickle(pretrain_data_dir+'/pretrain_data_01.pkl')\n",
    "loaded_shape = df.shape\n",
    "print (\"Data shape: \",loaded_shape)\n",
    "df = df.sort_values(by=['serial_number','date'],axis=0,ascending=True)"
   ]
  },
  {
   "cell_type": "markdown",
   "metadata": {},
   "source": [
    "Hm, so we have over 31 million records. That is nice ..."
   ]
  },
  {
   "cell_type": "markdown",
   "metadata": {},
   "source": [
    "Now we will aggregate data to calculate number of failed and not failed disks. As number of not failed disks is probaby much higher than number of failed disks, we can remove some npn-failed disks to reduce dataset size."
   ]
  },
  {
   "cell_type": "code",
   "execution_count": 11,
   "metadata": {},
   "outputs": [
    {
     "data": {
      "text/html": [
       "<div>\n",
       "<style scoped>\n",
       "    .dataframe tbody tr th:only-of-type {\n",
       "        vertical-align: middle;\n",
       "    }\n",
       "\n",
       "    .dataframe tbody tr th {\n",
       "        vertical-align: top;\n",
       "    }\n",
       "\n",
       "    .dataframe thead th {\n",
       "        text-align: right;\n",
       "    }\n",
       "</style>\n",
       "<table border=\"1\" class=\"dataframe\">\n",
       "  <thead>\n",
       "    <tr style=\"text-align: right;\">\n",
       "      <th></th>\n",
       "      <th>date_count</th>\n",
       "      <th>failure_sum</th>\n",
       "    </tr>\n",
       "    <tr>\n",
       "      <th>serial_number</th>\n",
       "      <th></th>\n",
       "      <th></th>\n",
       "    </tr>\n",
       "  </thead>\n",
       "  <tbody>\n",
       "    <tr>\n",
       "      <th>Z305AQGZ</th>\n",
       "      <td>414</td>\n",
       "      <td>2</td>\n",
       "    </tr>\n",
       "    <tr>\n",
       "      <th>Z305PEAL</th>\n",
       "      <td>397</td>\n",
       "      <td>2</td>\n",
       "    </tr>\n",
       "    <tr>\n",
       "      <th>S300WEE9</th>\n",
       "      <td>597</td>\n",
       "      <td>2</td>\n",
       "    </tr>\n",
       "    <tr>\n",
       "      <th>W3005047</th>\n",
       "      <td>148</td>\n",
       "      <td>1</td>\n",
       "    </tr>\n",
       "    <tr>\n",
       "      <th>Z301ZQH4</th>\n",
       "      <td>312</td>\n",
       "      <td>1</td>\n",
       "    </tr>\n",
       "  </tbody>\n",
       "</table>\n",
       "</div>"
      ],
      "text/plain": [
       "               date_count  failure_sum\n",
       "serial_number                         \n",
       "Z305AQGZ              414            2\n",
       "Z305PEAL              397            2\n",
       "S300WEE9              597            2\n",
       "W3005047              148            1\n",
       "Z301ZQH4              312            1"
      ]
     },
     "execution_count": 11,
     "metadata": {},
     "output_type": "execute_result"
    }
   ],
   "source": [
    "df_aggregate = (df[['date','serial_number','failure']].groupby('serial_number',as_index = True)\n",
    "                .agg({'date':'count', 'failure':'sum'})\n",
    "                .rename(columns={'date': 'date_count', 'failure': 'failure_sum'})\n",
    "                .sort_values(by=['failure_sum'],axis=0,ascending=False))\n",
    "df_aggregate.head(5)"
   ]
  },
  {
   "cell_type": "markdown",
   "metadata": {},
   "source": [
    "As you can see, some disks failed more than once. We have to be careful when processing data."
   ]
  },
  {
   "cell_type": "code",
   "execution_count": 12,
   "metadata": {},
   "outputs": [
    {
     "name": "stdout",
     "output_type": "stream",
     "text": [
      "number of disks :  36700\n",
      "number of failed disks:  2587\n",
      "percentage of broken disks:  7.049046321525886 %\n"
     ]
    }
   ],
   "source": [
    "all_count = df_aggregate.shape[0]\n",
    "broken_count = df_aggregate[df_aggregate.iloc[:, 1] >= 1].shape[0]\n",
    "print ('number of disks : ',all_count)\n",
    "print ('number of failed disks: ',broken_count)\n",
    "print ('percentage of broken disks: ',broken_count/all_count*100,'%' )"
   ]
  },
  {
   "cell_type": "code",
   "execution_count": 13,
   "metadata": {},
   "outputs": [
    {
     "data": {
      "image/png": "[encoded data removed]",
      "text/plain": [
       "<matplotlib.figure.Figure at 0x271a4142940>"
      ]
     },
     "metadata": {},
     "output_type": "display_data"
    }
   ],
   "source": [
    "labels = ['Failed disks','Non-failed disks']\n",
    "shares = [broken_count,all_count-broken_count] \n",
    "plt.pie(shares,explode=(0.2,0),labels=labels,autopct='%.0f%%',shadow=True,)\n",
    "plt.show()"
   ]
  },
  {
   "cell_type": "markdown",
   "metadata": {},
   "source": [
    "Broken disks constitute only ~7% of all disks. In order to balance classes and reduce dataset size, we can decrease number of not failed disks. The parameter num_ok_delta defines how many more not failed individual disks (than failed) we will leave in the dataset as to ensure more variability in this class.\n",
    "NOTE: This step is not exactly necessary (if you have enough memory on your machine). During further processing I ensure again that number of \"not failed\" samples corresponds roughly to number of \"failed\" samples. "
   ]
  },
  {
   "cell_type": "code",
   "execution_count": 14,
   "metadata": {},
   "outputs": [
    {
     "data": {
      "text/plain": [
       "(5349516, 50)"
      ]
     },
     "execution_count": 14,
     "metadata": {},
     "output_type": "execute_result"
    }
   ],
   "source": [
    "num_ok_delta = 2000\n",
    "df_broken = df_aggregate[df_aggregate['failure_sum']>0].index.values\n",
    "df_ok = df_aggregate[df_aggregate['failure_sum']==0].sample(n=(df_broken.shape[0]+num_ok_delta)).index.values\n",
    "selected_disks = np.concatenate((df_broken, df_ok), axis=0)\n",
    "df = df.loc[df.serial_number.isin(selected_disks)]\n",
    "reduced_shape = df.shape\n",
    "reduced_shape"
   ]
  },
  {
   "cell_type": "code",
   "execution_count": 15,
   "metadata": {},
   "outputs": [
    {
     "name": "stdout",
     "output_type": "stream",
     "text": [
      "dataset size reduction:  82 %\n"
     ]
    }
   ],
   "source": [
    "print (\"dataset size reduction: \",int(100*((loaded_shape[0] - reduced_shape[0])/loaded_shape[0])),\"%\")"
   ]
  },
  {
   "cell_type": "code",
   "execution_count": 16,
   "metadata": {},
   "outputs": [
    {
     "data": {
      "text/plain": [
       "1937"
      ]
     },
     "execution_count": 16,
     "metadata": {},
     "output_type": "execute_result"
    }
   ],
   "source": [
    "del df_aggregate, df_broken, df_ok, selected_disks\n",
    "gc.collect()"
   ]
  },
  {
   "cell_type": "markdown",
   "metadata": {},
   "source": [
    "Now we will add a few empty columns that will help us in further processing.\n",
    "* fails_soon - this will be our key target column. It tells \"the disk will fail in the next N days (N being our parameter)\" \n",
    "* seq_id - sequence is one series of disk history: from the first event in our dataset till: either last recorded event or failure. As we have noticed, some disks failed twice. They will have two different sequence ids then (one for each sequence).\n",
    "* work_day - consecutive number showing number of days disk is working (for a given sequence). Numbering starts from 1.\n",
    "* max_work_day - maximal work_day in a sequence. This is a helper parameter for further processing.\n",
    "* final_failure - information whether disk finally failed (1) or not (0). This is also helper parameter that will help in further processing.\n",
    "\n",
    "The \"helper\" parameters, although repeat the same data for a moment, will allow us to keep processing linear and avoid \"nested loops/quadratic processing\"."
   ]
  },
  {
   "cell_type": "code",
   "execution_count": 17,
   "metadata": {},
   "outputs": [
    {
     "data": {
      "text/html": [
       "<div>\n",
       "<style scoped>\n",
       "    .dataframe tbody tr th:only-of-type {\n",
       "        vertical-align: middle;\n",
       "    }\n",
       "\n",
       "    .dataframe tbody tr th {\n",
       "        vertical-align: top;\n",
       "    }\n",
       "\n",
       "    .dataframe thead th {\n",
       "        text-align: right;\n",
       "    }\n",
       "</style>\n",
       "<table border=\"1\" class=\"dataframe\">\n",
       "  <thead>\n",
       "    <tr style=\"text-align: right;\">\n",
       "      <th></th>\n",
       "      <th>date</th>\n",
       "      <th>weekday</th>\n",
       "      <th>serial_number</th>\n",
       "      <th>capacity_bytes</th>\n",
       "      <th>failure</th>\n",
       "      <th>fails_soon</th>\n",
       "      <th>seq_id</th>\n",
       "      <th>work_day</th>\n",
       "      <th>max_work_day</th>\n",
       "      <th>final_failure</th>\n",
       "      <th>smart_1_raw</th>\n",
       "      <th>smart_2_raw</th>\n",
       "    </tr>\n",
       "  </thead>\n",
       "  <tbody>\n",
       "    <tr>\n",
       "      <th>0</th>\n",
       "      <td>2016-09-10</td>\n",
       "      <td>5</td>\n",
       "      <td>S3000A9T</td>\n",
       "      <td>4000787030016</td>\n",
       "      <td>0</td>\n",
       "      <td>NaN</td>\n",
       "      <td>NaN</td>\n",
       "      <td>NaN</td>\n",
       "      <td>NaN</td>\n",
       "      <td>NaN</td>\n",
       "      <td>14415968</td>\n",
       "      <td>0</td>\n",
       "    </tr>\n",
       "    <tr>\n",
       "      <th>1</th>\n",
       "      <td>2016-09-11</td>\n",
       "      <td>6</td>\n",
       "      <td>S3000A9T</td>\n",
       "      <td>4000787030016</td>\n",
       "      <td>1</td>\n",
       "      <td>NaN</td>\n",
       "      <td>NaN</td>\n",
       "      <td>NaN</td>\n",
       "      <td>NaN</td>\n",
       "      <td>NaN</td>\n",
       "      <td>57961664</td>\n",
       "      <td>0</td>\n",
       "    </tr>\n",
       "    <tr>\n",
       "      <th>2</th>\n",
       "      <td>2017-06-03</td>\n",
       "      <td>5</td>\n",
       "      <td>S3000A9T</td>\n",
       "      <td>4000787030016</td>\n",
       "      <td>0</td>\n",
       "      <td>NaN</td>\n",
       "      <td>NaN</td>\n",
       "      <td>NaN</td>\n",
       "      <td>NaN</td>\n",
       "      <td>NaN</td>\n",
       "      <td>107687208</td>\n",
       "      <td>0</td>\n",
       "    </tr>\n",
       "    <tr>\n",
       "      <th>3</th>\n",
       "      <td>2017-06-04</td>\n",
       "      <td>6</td>\n",
       "      <td>S3000A9T</td>\n",
       "      <td>4000787030016</td>\n",
       "      <td>0</td>\n",
       "      <td>NaN</td>\n",
       "      <td>NaN</td>\n",
       "      <td>NaN</td>\n",
       "      <td>NaN</td>\n",
       "      <td>NaN</td>\n",
       "      <td>132850464</td>\n",
       "      <td>0</td>\n",
       "    </tr>\n",
       "    <tr>\n",
       "      <th>4</th>\n",
       "      <td>2017-06-05</td>\n",
       "      <td>0</td>\n",
       "      <td>S3000A9T</td>\n",
       "      <td>4000787030016</td>\n",
       "      <td>0</td>\n",
       "      <td>NaN</td>\n",
       "      <td>NaN</td>\n",
       "      <td>NaN</td>\n",
       "      <td>NaN</td>\n",
       "      <td>NaN</td>\n",
       "      <td>176573128</td>\n",
       "      <td>0</td>\n",
       "    </tr>\n",
       "  </tbody>\n",
       "</table>\n",
       "</div>"
      ],
      "text/plain": [
       "        date  weekday serial_number  capacity_bytes  failure  fails_soon  \\\n",
       "0 2016-09-10        5      S3000A9T   4000787030016        0         NaN   \n",
       "1 2016-09-11        6      S3000A9T   4000787030016        1         NaN   \n",
       "2 2017-06-03        5      S3000A9T   4000787030016        0         NaN   \n",
       "3 2017-06-04        6      S3000A9T   4000787030016        0         NaN   \n",
       "4 2017-06-05        0      S3000A9T   4000787030016        0         NaN   \n",
       "\n",
       "   seq_id  work_day  max_work_day  final_failure  smart_1_raw  smart_2_raw  \n",
       "0     NaN       NaN           NaN            NaN     14415968            0  \n",
       "1     NaN       NaN           NaN            NaN     57961664            0  \n",
       "2     NaN       NaN           NaN            NaN    107687208            0  \n",
       "3     NaN       NaN           NaN            NaN    132850464            0  \n",
       "4     NaN       NaN           NaN            NaN    176573128            0  "
      ]
     },
     "execution_count": 17,
     "metadata": {},
     "output_type": "execute_result"
    }
   ],
   "source": [
    "df = df.sort_values(by=['serial_number','date'],axis=0,ascending=True)\n",
    "df.insert(5, 'fails_soon', np.nan)\n",
    "df.insert(6, 'seq_id', np.nan)\n",
    "df.insert(7, 'work_day', np.nan)\n",
    "df.insert(8, 'max_work_day', np.nan)\n",
    "df.insert(9, 'final_failure', np.nan)\n",
    "df.iloc[0:5,:12]"
   ]
  },
  {
   "cell_type": "markdown",
   "metadata": {},
   "source": [
    "Now we will sort data by disk serial number and date ascending. This is very important step for next processing loop."
   ]
  },
  {
   "cell_type": "code",
   "execution_count": 18,
   "metadata": {},
   "outputs": [],
   "source": [
    "df = df.sort_values(by=['serial_number','date'],axis=0,ascending=True)"
   ]
  },
  {
   "cell_type": "markdown",
   "metadata": {},
   "source": [
    "The next loop will go through the whole dataset and:\n",
    "* once encounters new disk, it will set parameters specifically for beginning of a new sequence (see code)\n",
    "* if continues current sequence, it will just increment current working day and set current sequence id\n",
    "\n",
    "As a result of this script, two newly added columns will be filled in: seq_id and work_day"
   ]
  },
  {
   "cell_type": "code",
   "execution_count": 19,
   "metadata": {},
   "outputs": [
    {
     "name": "stdout",
     "output_type": "stream",
     "text": [
      "0 % > 9 % > 18 % > 28 % > 37 % > 46 % > 56 % > 65 % > 74 % > 84 % > 93 % > completed\n"
     ]
    }
   ],
   "source": [
    "curr_serial_number = None\n",
    "prev_failure = 0\n",
    "observ_seq_id = 0\n",
    "counter = 0\n",
    "for idx,data in df.iterrows():\n",
    "    if (data['serial_number'] != curr_serial_number) or (prev_failure == 1):\n",
    "        curr_serial_number = data['serial_number']\n",
    "        curr_work_day = 1\n",
    "        observ_seq_id += 1\n",
    "    else:\n",
    "        curr_work_day += 1\n",
    "    df.at[idx, 'seq_id'] = observ_seq_id\n",
    "    df.at[idx, 'work_day'] = curr_work_day\n",
    "    prev_failure = data['failure'] \n",
    "    # print status every 0.5 million rows processed\n",
    "    if (counter%500000==0): print (int(counter*100/df.shape[0]),'%',end =\" > \")\n",
    "    counter += 1\n",
    "print (\"completed\")"
   ]
  },
  {
   "cell_type": "markdown",
   "metadata": {},
   "source": [
    "This is our dataset head after first processing loop"
   ]
  },
  {
   "cell_type": "code",
   "execution_count": 20,
   "metadata": {},
   "outputs": [
    {
     "data": {
      "text/html": [
       "<div>\n",
       "<style scoped>\n",
       "    .dataframe tbody tr th:only-of-type {\n",
       "        vertical-align: middle;\n",
       "    }\n",
       "\n",
       "    .dataframe tbody tr th {\n",
       "        vertical-align: top;\n",
       "    }\n",
       "\n",
       "    .dataframe thead th {\n",
       "        text-align: right;\n",
       "    }\n",
       "</style>\n",
       "<table border=\"1\" class=\"dataframe\">\n",
       "  <thead>\n",
       "    <tr style=\"text-align: right;\">\n",
       "      <th></th>\n",
       "      <th>date</th>\n",
       "      <th>weekday</th>\n",
       "      <th>serial_number</th>\n",
       "      <th>capacity_bytes</th>\n",
       "      <th>failure</th>\n",
       "      <th>fails_soon</th>\n",
       "      <th>seq_id</th>\n",
       "      <th>work_day</th>\n",
       "      <th>max_work_day</th>\n",
       "      <th>final_failure</th>\n",
       "      <th>smart_1_raw</th>\n",
       "      <th>smart_2_raw</th>\n",
       "    </tr>\n",
       "  </thead>\n",
       "  <tbody>\n",
       "    <tr>\n",
       "      <th>0</th>\n",
       "      <td>2016-09-10</td>\n",
       "      <td>5</td>\n",
       "      <td>S3000A9T</td>\n",
       "      <td>4000787030016</td>\n",
       "      <td>0</td>\n",
       "      <td>NaN</td>\n",
       "      <td>1.0</td>\n",
       "      <td>1.0</td>\n",
       "      <td>NaN</td>\n",
       "      <td>NaN</td>\n",
       "      <td>14415968</td>\n",
       "      <td>0</td>\n",
       "    </tr>\n",
       "    <tr>\n",
       "      <th>1</th>\n",
       "      <td>2016-09-11</td>\n",
       "      <td>6</td>\n",
       "      <td>S3000A9T</td>\n",
       "      <td>4000787030016</td>\n",
       "      <td>1</td>\n",
       "      <td>NaN</td>\n",
       "      <td>1.0</td>\n",
       "      <td>2.0</td>\n",
       "      <td>NaN</td>\n",
       "      <td>NaN</td>\n",
       "      <td>57961664</td>\n",
       "      <td>0</td>\n",
       "    </tr>\n",
       "    <tr>\n",
       "      <th>2</th>\n",
       "      <td>2017-06-03</td>\n",
       "      <td>5</td>\n",
       "      <td>S3000A9T</td>\n",
       "      <td>4000787030016</td>\n",
       "      <td>0</td>\n",
       "      <td>NaN</td>\n",
       "      <td>2.0</td>\n",
       "      <td>1.0</td>\n",
       "      <td>NaN</td>\n",
       "      <td>NaN</td>\n",
       "      <td>107687208</td>\n",
       "      <td>0</td>\n",
       "    </tr>\n",
       "    <tr>\n",
       "      <th>3</th>\n",
       "      <td>2017-06-04</td>\n",
       "      <td>6</td>\n",
       "      <td>S3000A9T</td>\n",
       "      <td>4000787030016</td>\n",
       "      <td>0</td>\n",
       "      <td>NaN</td>\n",
       "      <td>2.0</td>\n",
       "      <td>2.0</td>\n",
       "      <td>NaN</td>\n",
       "      <td>NaN</td>\n",
       "      <td>132850464</td>\n",
       "      <td>0</td>\n",
       "    </tr>\n",
       "    <tr>\n",
       "      <th>4</th>\n",
       "      <td>2017-06-05</td>\n",
       "      <td>0</td>\n",
       "      <td>S3000A9T</td>\n",
       "      <td>4000787030016</td>\n",
       "      <td>0</td>\n",
       "      <td>NaN</td>\n",
       "      <td>2.0</td>\n",
       "      <td>3.0</td>\n",
       "      <td>NaN</td>\n",
       "      <td>NaN</td>\n",
       "      <td>176573128</td>\n",
       "      <td>0</td>\n",
       "    </tr>\n",
       "  </tbody>\n",
       "</table>\n",
       "</div>"
      ],
      "text/plain": [
       "        date  weekday serial_number  capacity_bytes  failure  fails_soon  \\\n",
       "0 2016-09-10        5      S3000A9T   4000787030016        0         NaN   \n",
       "1 2016-09-11        6      S3000A9T   4000787030016        1         NaN   \n",
       "2 2017-06-03        5      S3000A9T   4000787030016        0         NaN   \n",
       "3 2017-06-04        6      S3000A9T   4000787030016        0         NaN   \n",
       "4 2017-06-05        0      S3000A9T   4000787030016        0         NaN   \n",
       "\n",
       "   seq_id  work_day  max_work_day  final_failure  smart_1_raw  smart_2_raw  \n",
       "0     1.0       1.0           NaN            NaN     14415968            0  \n",
       "1     1.0       2.0           NaN            NaN     57961664            0  \n",
       "2     2.0       1.0           NaN            NaN    107687208            0  \n",
       "3     2.0       2.0           NaN            NaN    132850464            0  \n",
       "4     2.0       3.0           NaN            NaN    176573128            0  "
      ]
     },
     "execution_count": 20,
     "metadata": {},
     "output_type": "execute_result"
    }
   ],
   "source": [
    "df.iloc[0:5,:12]"
   ]
  },
  {
   "cell_type": "markdown",
   "metadata": {},
   "source": [
    "Cause this step takes a lot of time, we will save result into interim picke file. You will be able to load this interim file and rerun next steps without generating these data again."
   ]
  },
  {
   "cell_type": "code",
   "execution_count": 21,
   "metadata": {},
   "outputs": [],
   "source": [
    "df.to_pickle(pretrain_data_dir+'/pretrain_data_02.pkl')"
   ]
  },
  {
   "cell_type": "code",
   "execution_count": 22,
   "metadata": {},
   "outputs": [],
   "source": [
    "df = pd.read_pickle(pretrain_data_dir+'/pretrain_data_02.pkl')"
   ]
  },
  {
   "cell_type": "markdown",
   "metadata": {},
   "source": [
    "Now we need to sort data again. This time, each sequence will be sorted from last working day to first working day (in descending order). Thanks to that, our next processing script will know what happened with disk at the end - did it fail or not?"
   ]
  },
  {
   "cell_type": "code",
   "execution_count": 23,
   "metadata": {},
   "outputs": [],
   "source": [
    "df = df.sort_values(by=['seq_id','work_day'],axis=0,ascending=[True, False])"
   ]
  },
  {
   "cell_type": "markdown",
   "metadata": {},
   "source": [
    "These two parameters below are one of the key parameters of this excercise:\n",
    "* sample_days - defines how many days we want to have in each sample (sequence) that we will feed into LSTM network. LSTMs as recurrent networks can learn from sequences and we will take advantage of that. The longer the sequence in a single sample is, the more information about potential trend we provide to the network. But also, days that are more far away from the final failure day have less guidance in SMART parameters whether disk will fail or not, so they may mislead the network. \n",
    "* predict_failure_days - defines how many days before the failure day we treat as \"fails soon \"days. So you can think of it also as a \"warning flag\" - do you want to be warned about potential failure 3, 5 or 10 days before it happens? The bigger this parameter is, the more samples we can generate for training for \"failed\" disks. But, the same as for previous parameter, samples more \"far away\" from the failure day will have less info hidden in SMART parameters about potential trend.\n",
    "\n",
    "See the image below to understand how we will construct each sample. For LSTM networks, input has 3D structure (num_samples, timesteps, num_featutes). Each star \"*\" in the sample is one timestep with size of SMART num_features each.\n",
    "\n",
    "<img title=\"ShowMyImage\" src=\"data:image/png;base64,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\" alt=\"title\" />"
   ]
  },
  {
   "cell_type": "code",
   "execution_count": 24,
   "metadata": {},
   "outputs": [],
   "source": [
    "sample_days = 5\n",
    "predict_failure_days = 5\n",
    "assert predict_failure_days >= sample_days"
   ]
  },
  {
   "cell_type": "markdown",
   "metadata": {},
   "source": [
    "This script will fill columns: max_work_day, final_failure and fails_soon. It will also remove sequences of data that are smaller (shorter) than sample_days. We cannot use too short sentences to train our network. This also means that we will be abpe to predict disk failure no sooner than after having sample_days items of data."
   ]
  },
  {
   "cell_type": "code",
   "execution_count": 25,
   "metadata": {},
   "outputs": [
    {
     "name": "stdout",
     "output_type": "stream",
     "text": [
      "0 % > 9 % > 18 % > 28 % > 37 % > 46 % > 56 % > 65 % > 74 % > 84 % > 93 % > completed\n"
     ]
    }
   ],
   "source": [
    "prev_observ_seq_id = None\n",
    "counter = 0\n",
    "remove_list = []\n",
    "for idx,data in df.iterrows():\n",
    "    if (prev_observ_seq_id != data['seq_id']):\n",
    "        max_working_day = data['work_day']\n",
    "        final_failure = data['failure']\n",
    "    if max_working_day >= sample_days:\n",
    "        df.at[idx, 'max_work_day'] = max_working_day\n",
    "        df.at[idx, 'final_failure'] = final_failure\n",
    "        if (final_failure == 1) and (data['work_day'] > (max_working_day - predict_failure_days)):\n",
    "            df.at[idx, 'fails_soon'] = 1\n",
    "        else:\n",
    "            df.at[idx, 'fails_soon'] = 0\n",
    "    else:\n",
    "        remove_list.append(idx)\n",
    "    prev_observ_seq_id = data['seq_id']\n",
    "    if (counter%500000==0): print (int(counter*100/df.shape[0]),'%',end =\" > \")\n",
    "    counter += 1\n",
    "df = df.drop(remove_list)\n",
    "df[['fails_soon','seq_id','work_day','max_work_day','final_failure']] = \\\n",
    "df[['fails_soon','seq_id','work_day','max_work_day','final_failure']].astype(int)\n",
    "print (\"completed\")"
   ]
  },
  {
   "cell_type": "code",
   "execution_count": 26,
   "metadata": {},
   "outputs": [
    {
     "data": {
      "text/html": [
       "<div>\n",
       "<style scoped>\n",
       "    .dataframe tbody tr th:only-of-type {\n",
       "        vertical-align: middle;\n",
       "    }\n",
       "\n",
       "    .dataframe tbody tr th {\n",
       "        vertical-align: top;\n",
       "    }\n",
       "\n",
       "    .dataframe thead th {\n",
       "        text-align: right;\n",
       "    }\n",
       "</style>\n",
       "<table border=\"1\" class=\"dataframe\">\n",
       "  <thead>\n",
       "    <tr style=\"text-align: right;\">\n",
       "      <th></th>\n",
       "      <th>date</th>\n",
       "      <th>weekday</th>\n",
       "      <th>serial_number</th>\n",
       "      <th>capacity_bytes</th>\n",
       "      <th>failure</th>\n",
       "      <th>fails_soon</th>\n",
       "      <th>seq_id</th>\n",
       "      <th>work_day</th>\n",
       "      <th>max_work_day</th>\n",
       "      <th>final_failure</th>\n",
       "      <th>smart_1_raw</th>\n",
       "      <th>smart_2_raw</th>\n",
       "    </tr>\n",
       "  </thead>\n",
       "  <tbody>\n",
       "    <tr>\n",
       "      <th>212</th>\n",
       "      <td>2017-12-31</td>\n",
       "      <td>6</td>\n",
       "      <td>S3000A9T</td>\n",
       "      <td>4000787030016</td>\n",
       "      <td>0</td>\n",
       "      <td>0</td>\n",
       "      <td>2</td>\n",
       "      <td>211</td>\n",
       "      <td>211</td>\n",
       "      <td>0</td>\n",
       "      <td>38941024</td>\n",
       "      <td>0</td>\n",
       "    </tr>\n",
       "    <tr>\n",
       "      <th>211</th>\n",
       "      <td>2017-12-30</td>\n",
       "      <td>5</td>\n",
       "      <td>S3000A9T</td>\n",
       "      <td>4000787030016</td>\n",
       "      <td>0</td>\n",
       "      <td>0</td>\n",
       "      <td>2</td>\n",
       "      <td>210</td>\n",
       "      <td>211</td>\n",
       "      <td>0</td>\n",
       "      <td>43226920</td>\n",
       "      <td>0</td>\n",
       "    </tr>\n",
       "    <tr>\n",
       "      <th>210</th>\n",
       "      <td>2017-12-29</td>\n",
       "      <td>4</td>\n",
       "      <td>S3000A9T</td>\n",
       "      <td>4000787030016</td>\n",
       "      <td>0</td>\n",
       "      <td>0</td>\n",
       "      <td>2</td>\n",
       "      <td>209</td>\n",
       "      <td>211</td>\n",
       "      <td>0</td>\n",
       "      <td>237129448</td>\n",
       "      <td>0</td>\n",
       "    </tr>\n",
       "    <tr>\n",
       "      <th>209</th>\n",
       "      <td>2017-12-28</td>\n",
       "      <td>3</td>\n",
       "      <td>S3000A9T</td>\n",
       "      <td>4000787030016</td>\n",
       "      <td>0</td>\n",
       "      <td>0</td>\n",
       "      <td>2</td>\n",
       "      <td>208</td>\n",
       "      <td>211</td>\n",
       "      <td>0</td>\n",
       "      <td>107965856</td>\n",
       "      <td>0</td>\n",
       "    </tr>\n",
       "    <tr>\n",
       "      <th>208</th>\n",
       "      <td>2017-12-27</td>\n",
       "      <td>2</td>\n",
       "      <td>S3000A9T</td>\n",
       "      <td>4000787030016</td>\n",
       "      <td>0</td>\n",
       "      <td>0</td>\n",
       "      <td>2</td>\n",
       "      <td>207</td>\n",
       "      <td>211</td>\n",
       "      <td>0</td>\n",
       "      <td>236818080</td>\n",
       "      <td>0</td>\n",
       "    </tr>\n",
       "  </tbody>\n",
       "</table>\n",
       "</div>"
      ],
      "text/plain": [
       "          date  weekday serial_number  capacity_bytes  failure  fails_soon  \\\n",
       "212 2017-12-31        6      S3000A9T   4000787030016        0           0   \n",
       "211 2017-12-30        5      S3000A9T   4000787030016        0           0   \n",
       "210 2017-12-29        4      S3000A9T   4000787030016        0           0   \n",
       "209 2017-12-28        3      S3000A9T   4000787030016        0           0   \n",
       "208 2017-12-27        2      S3000A9T   4000787030016        0           0   \n",
       "\n",
       "     seq_id  work_day  max_work_day  final_failure  smart_1_raw  smart_2_raw  \n",
       "212       2       211           211              0     38941024            0  \n",
       "211       2       210           211              0     43226920            0  \n",
       "210       2       209           211              0    237129448            0  \n",
       "209       2       208           211              0    107965856            0  \n",
       "208       2       207           211              0    236818080            0  "
      ]
     },
     "execution_count": 26,
     "metadata": {},
     "output_type": "execute_result"
    }
   ],
   "source": [
    "df.iloc[0:5,:12]"
   ]
  },
  {
   "cell_type": "markdown",
   "metadata": {},
   "source": [
    "And we save the interim results again."
   ]
  },
  {
   "cell_type": "code",
   "execution_count": 27,
   "metadata": {},
   "outputs": [],
   "source": [
    "df = df.sort_values(by=['seq_id','work_day'],axis=0,ascending=[True, True])\n",
    "df.to_pickle(pretrain_data_dir+'/pretrain_data_03.pkl')"
   ]
  },
  {
   "cell_type": "markdown",
   "metadata": {},
   "source": [
    "# 03B. LSTM Sample selection"
   ]
  },
  {
   "cell_type": "code",
   "execution_count": 60,
   "metadata": {},
   "outputs": [],
   "source": [
    "df = pd.read_pickle(pretrain_data_dir+'/pretrain_data_03.pkl')\n",
    "df = df.sort_values(by=['seq_id','work_day'],axis=0,ascending=[True, False])"
   ]
  },
  {
   "cell_type": "code",
   "execution_count": 61,
   "metadata": {},
   "outputs": [
    {
     "data": {
      "text/plain": [
       "17066"
      ]
     },
     "execution_count": 61,
     "metadata": {},
     "output_type": "execute_result"
    }
   ],
   "source": [
    "gc.collect()"
   ]
  },
  {
   "cell_type": "code",
   "execution_count": 62,
   "metadata": {},
   "outputs": [
    {
     "data": {
      "text/html": [
       "<div>\n",
       "<style scoped>\n",
       "    .dataframe tbody tr th:only-of-type {\n",
       "        vertical-align: middle;\n",
       "    }\n",
       "\n",
       "    .dataframe tbody tr th {\n",
       "        vertical-align: top;\n",
       "    }\n",
       "\n",
       "    .dataframe thead th {\n",
       "        text-align: right;\n",
       "    }\n",
       "</style>\n",
       "<table border=\"1\" class=\"dataframe\">\n",
       "  <thead>\n",
       "    <tr style=\"text-align: right;\">\n",
       "      <th></th>\n",
       "      <th>date</th>\n",
       "      <th>weekday</th>\n",
       "      <th>serial_number</th>\n",
       "      <th>capacity_bytes</th>\n",
       "      <th>failure</th>\n",
       "      <th>fails_soon</th>\n",
       "      <th>seq_id</th>\n",
       "      <th>work_day</th>\n",
       "      <th>max_work_day</th>\n",
       "      <th>final_failure</th>\n",
       "      <th>smart_1_raw</th>\n",
       "      <th>smart_2_raw</th>\n",
       "    </tr>\n",
       "  </thead>\n",
       "  <tbody>\n",
       "    <tr>\n",
       "      <th>212</th>\n",
       "      <td>2017-12-31</td>\n",
       "      <td>6</td>\n",
       "      <td>S3000A9T</td>\n",
       "      <td>4000787030016</td>\n",
       "      <td>0</td>\n",
       "      <td>0</td>\n",
       "      <td>2</td>\n",
       "      <td>211</td>\n",
       "      <td>211</td>\n",
       "      <td>0</td>\n",
       "      <td>38941024</td>\n",
       "      <td>0</td>\n",
       "    </tr>\n",
       "    <tr>\n",
       "      <th>211</th>\n",
       "      <td>2017-12-30</td>\n",
       "      <td>5</td>\n",
       "      <td>S3000A9T</td>\n",
       "      <td>4000787030016</td>\n",
       "      <td>0</td>\n",
       "      <td>0</td>\n",
       "      <td>2</td>\n",
       "      <td>210</td>\n",
       "      <td>211</td>\n",
       "      <td>0</td>\n",
       "      <td>43226920</td>\n",
       "      <td>0</td>\n",
       "    </tr>\n",
       "    <tr>\n",
       "      <th>210</th>\n",
       "      <td>2017-12-29</td>\n",
       "      <td>4</td>\n",
       "      <td>S3000A9T</td>\n",
       "      <td>4000787030016</td>\n",
       "      <td>0</td>\n",
       "      <td>0</td>\n",
       "      <td>2</td>\n",
       "      <td>209</td>\n",
       "      <td>211</td>\n",
       "      <td>0</td>\n",
       "      <td>237129448</td>\n",
       "      <td>0</td>\n",
       "    </tr>\n",
       "    <tr>\n",
       "      <th>209</th>\n",
       "      <td>2017-12-28</td>\n",
       "      <td>3</td>\n",
       "      <td>S3000A9T</td>\n",
       "      <td>4000787030016</td>\n",
       "      <td>0</td>\n",
       "      <td>0</td>\n",
       "      <td>2</td>\n",
       "      <td>208</td>\n",
       "      <td>211</td>\n",
       "      <td>0</td>\n",
       "      <td>107965856</td>\n",
       "      <td>0</td>\n",
       "    </tr>\n",
       "    <tr>\n",
       "      <th>208</th>\n",
       "      <td>2017-12-27</td>\n",
       "      <td>2</td>\n",
       "      <td>S3000A9T</td>\n",
       "      <td>4000787030016</td>\n",
       "      <td>0</td>\n",
       "      <td>0</td>\n",
       "      <td>2</td>\n",
       "      <td>207</td>\n",
       "      <td>211</td>\n",
       "      <td>0</td>\n",
       "      <td>236818080</td>\n",
       "      <td>0</td>\n",
       "    </tr>\n",
       "  </tbody>\n",
       "</table>\n",
       "</div>"
      ],
      "text/plain": [
       "          date  weekday serial_number  capacity_bytes  failure  fails_soon  \\\n",
       "212 2017-12-31        6      S3000A9T   4000787030016        0           0   \n",
       "211 2017-12-30        5      S3000A9T   4000787030016        0           0   \n",
       "210 2017-12-29        4      S3000A9T   4000787030016        0           0   \n",
       "209 2017-12-28        3      S3000A9T   4000787030016        0           0   \n",
       "208 2017-12-27        2      S3000A9T   4000787030016        0           0   \n",
       "\n",
       "     seq_id  work_day  max_work_day  final_failure  smart_1_raw  smart_2_raw  \n",
       "212       2       211           211              0     38941024            0  \n",
       "211       2       210           211              0     43226920            0  \n",
       "210       2       209           211              0    237129448            0  \n",
       "209       2       208           211              0    107965856            0  \n",
       "208       2       207           211              0    236818080            0  "
      ]
     },
     "execution_count": 62,
     "metadata": {},
     "output_type": "execute_result"
    }
   ],
   "source": [
    "df.iloc[0:5,:12]"
   ]
  },
  {
   "cell_type": "markdown",
   "metadata": {},
   "source": [
    "First we will select failed samples, so samples with disks for which we know they finally failed. This is the first step as in the next step we will select samples of disks that did not failed and both classes should be balanced."
   ]
  },
  {
   "cell_type": "code",
   "execution_count": 63,
   "metadata": {},
   "outputs": [
    {
     "name": "stdout",
     "output_type": "stream",
     "text": [
      "0 % > 9 % > 18 % > 28 % > 37 % > 46 % > 56 % > 65 % > 74 % > 84 % > 93 % > completed\n"
     ]
    }
   ],
   "source": [
    "## Sample data\n",
    "df_failed_samples = pd.DataFrame()\n",
    "failed_samples_list = []\n",
    "counter = 0\n",
    "for idx,data in df.iterrows():\n",
    "    if (data['fails_soon'] == 1) and (data['work_day'] >= sample_days):\n",
    "        int_loc = df.index.get_loc(idx)\n",
    "        failed_sample = df.iloc[int_loc:int_loc + sample_days]\n",
    "        failed_samples_list.append(failed_sample)\n",
    "    if (counter%500000==0): print (int(counter*100/df.shape[0]),'%',end =\" > \")\n",
    "    counter += 1\n",
    "df_failed_samples = df_failed_samples.append(failed_samples_list)\n",
    "df_failed_samples = df_failed_samples.reset_index(drop=True)\n",
    "df_failed_samples = df_failed_samples.sort_index(axis=0,ascending=False)\n",
    "print (\"completed\")"
   ]
  },
  {
   "cell_type": "code",
   "execution_count": 64,
   "metadata": {},
   "outputs": [
    {
     "data": {
      "text/html": [
       "<div>\n",
       "<style scoped>\n",
       "    .dataframe tbody tr th:only-of-type {\n",
       "        vertical-align: middle;\n",
       "    }\n",
       "\n",
       "    .dataframe tbody tr th {\n",
       "        vertical-align: top;\n",
       "    }\n",
       "\n",
       "    .dataframe thead th {\n",
       "        text-align: right;\n",
       "    }\n",
       "</style>\n",
       "<table border=\"1\" class=\"dataframe\">\n",
       "  <thead>\n",
       "    <tr style=\"text-align: right;\">\n",
       "      <th></th>\n",
       "      <th>date</th>\n",
       "      <th>weekday</th>\n",
       "      <th>serial_number</th>\n",
       "      <th>capacity_bytes</th>\n",
       "      <th>failure</th>\n",
       "      <th>fails_soon</th>\n",
       "      <th>seq_id</th>\n",
       "      <th>work_day</th>\n",
       "      <th>max_work_day</th>\n",
       "      <th>final_failure</th>\n",
       "      <th>smart_1_raw</th>\n",
       "      <th>smart_2_raw</th>\n",
       "    </tr>\n",
       "  </thead>\n",
       "  <tbody>\n",
       "    <tr>\n",
       "      <th>63639</th>\n",
       "      <td>2017-10-17</td>\n",
       "      <td>1</td>\n",
       "      <td>Z306MW5B</td>\n",
       "      <td>4000787030016</td>\n",
       "      <td>0</td>\n",
       "      <td>0</td>\n",
       "      <td>7212</td>\n",
       "      <td>419</td>\n",
       "      <td>427</td>\n",
       "      <td>1</td>\n",
       "      <td>166497128</td>\n",
       "      <td>0</td>\n",
       "    </tr>\n",
       "    <tr>\n",
       "      <th>63638</th>\n",
       "      <td>2017-10-18</td>\n",
       "      <td>2</td>\n",
       "      <td>Z306MW5B</td>\n",
       "      <td>4000787030016</td>\n",
       "      <td>0</td>\n",
       "      <td>0</td>\n",
       "      <td>7212</td>\n",
       "      <td>420</td>\n",
       "      <td>427</td>\n",
       "      <td>1</td>\n",
       "      <td>51905616</td>\n",
       "      <td>0</td>\n",
       "    </tr>\n",
       "    <tr>\n",
       "      <th>63637</th>\n",
       "      <td>2017-10-19</td>\n",
       "      <td>3</td>\n",
       "      <td>Z306MW5B</td>\n",
       "      <td>4000787030016</td>\n",
       "      <td>0</td>\n",
       "      <td>0</td>\n",
       "      <td>7212</td>\n",
       "      <td>421</td>\n",
       "      <td>427</td>\n",
       "      <td>1</td>\n",
       "      <td>147568504</td>\n",
       "      <td>0</td>\n",
       "    </tr>\n",
       "    <tr>\n",
       "      <th>63636</th>\n",
       "      <td>2017-10-20</td>\n",
       "      <td>4</td>\n",
       "      <td>Z306MW5B</td>\n",
       "      <td>4000787030016</td>\n",
       "      <td>0</td>\n",
       "      <td>0</td>\n",
       "      <td>7212</td>\n",
       "      <td>422</td>\n",
       "      <td>427</td>\n",
       "      <td>1</td>\n",
       "      <td>4599640</td>\n",
       "      <td>0</td>\n",
       "    </tr>\n",
       "    <tr>\n",
       "      <th>63635</th>\n",
       "      <td>2017-10-21</td>\n",
       "      <td>5</td>\n",
       "      <td>Z306MW5B</td>\n",
       "      <td>4000787030016</td>\n",
       "      <td>0</td>\n",
       "      <td>1</td>\n",
       "      <td>7212</td>\n",
       "      <td>423</td>\n",
       "      <td>427</td>\n",
       "      <td>1</td>\n",
       "      <td>95941328</td>\n",
       "      <td>0</td>\n",
       "    </tr>\n",
       "    <tr>\n",
       "      <th>63634</th>\n",
       "      <td>2017-10-18</td>\n",
       "      <td>2</td>\n",
       "      <td>Z306MW5B</td>\n",
       "      <td>4000787030016</td>\n",
       "      <td>0</td>\n",
       "      <td>0</td>\n",
       "      <td>7212</td>\n",
       "      <td>420</td>\n",
       "      <td>427</td>\n",
       "      <td>1</td>\n",
       "      <td>51905616</td>\n",
       "      <td>0</td>\n",
       "    </tr>\n",
       "    <tr>\n",
       "      <th>63633</th>\n",
       "      <td>2017-10-19</td>\n",
       "      <td>3</td>\n",
       "      <td>Z306MW5B</td>\n",
       "      <td>4000787030016</td>\n",
       "      <td>0</td>\n",
       "      <td>0</td>\n",
       "      <td>7212</td>\n",
       "      <td>421</td>\n",
       "      <td>427</td>\n",
       "      <td>1</td>\n",
       "      <td>147568504</td>\n",
       "      <td>0</td>\n",
       "    </tr>\n",
       "  </tbody>\n",
       "</table>\n",
       "</div>"
      ],
      "text/plain": [
       "            date  weekday serial_number  capacity_bytes  failure  fails_soon  \\\n",
       "63639 2017-10-17        1      Z306MW5B   4000787030016        0           0   \n",
       "63638 2017-10-18        2      Z306MW5B   4000787030016        0           0   \n",
       "63637 2017-10-19        3      Z306MW5B   4000787030016        0           0   \n",
       "63636 2017-10-20        4      Z306MW5B   4000787030016        0           0   \n",
       "63635 2017-10-21        5      Z306MW5B   4000787030016        0           1   \n",
       "63634 2017-10-18        2      Z306MW5B   4000787030016        0           0   \n",
       "63633 2017-10-19        3      Z306MW5B   4000787030016        0           0   \n",
       "\n",
       "       seq_id  work_day  max_work_day  final_failure  smart_1_raw  smart_2_raw  \n",
       "63639    7212       419           427              1    166497128            0  \n",
       "63638    7212       420           427              1     51905616            0  \n",
       "63637    7212       421           427              1    147568504            0  \n",
       "63636    7212       422           427              1      4599640            0  \n",
       "63635    7212       423           427              1     95941328            0  \n",
       "63634    7212       420           427              1     51905616            0  \n",
       "63633    7212       421           427              1    147568504            0  "
      ]
     },
     "execution_count": 64,
     "metadata": {},
     "output_type": "execute_result"
    }
   ],
   "source": [
    "df_failed_samples.iloc[0:7,:12]"
   ]
  },
  {
   "cell_type": "code",
   "execution_count": 65,
   "metadata": {},
   "outputs": [
    {
     "data": {
      "text/plain": [
       "63640"
      ]
     },
     "execution_count": 65,
     "metadata": {},
     "output_type": "execute_result"
    }
   ],
   "source": [
    "len(df_failed_samples)"
   ]
  },
  {
   "cell_type": "markdown",
   "metadata": {},
   "source": [
    "Now we will be selecting samples with non-failed disks (the same size as for failed ones). Please note that there are two \"types\" of non-failed samples 1) samples related to disks that never failed 2) samples related to disks that will fail but \"later\" that set by our horizon parameter \"predict_failure_days\". Such samples are not yet aware that their disk will fail. \n",
    "Cause here we have much more samples than in failed disks set, we will do the selection randomly to ensure better variability in data.\n",
    "We  also need to ensure that the same disk does not repeat too many times and that our random selection hits select different samples, not the same ones. Loop has control structures to ensure that."
   ]
  },
  {
   "cell_type": "code",
   "execution_count": 66,
   "metadata": {},
   "outputs": [
    {
     "name": "stdout",
     "output_type": "stream",
     "text": [
      "0 % > 39 % > 78 % > completed\n"
     ]
    }
   ],
   "source": [
    "failed_len = int(df_failed_samples.shape[0]/sample_days)\n",
    "df_len = df.shape[0]\n",
    "df_ok_samples = pd.DataFrame()\n",
    "ok_samples_list = []\n",
    "counter = 0\n",
    "used_disks_list = []\n",
    "used_offset_list = []\n",
    "max_same_disks = 2\n",
    "for i in range(failed_len):\n",
    "    selected_ok = False\n",
    "    while selected_ok == False:\n",
    "        ok_offset = random.randint(0, df_len-sample_days)\n",
    "        check_row = df.iloc[ok_offset]\n",
    "        if (check_row['fails_soon'] == 0) \\\n",
    "        and (check_row['work_day'] >= sample_days)\\\n",
    "        and (used_disks_list.count(check_row['serial_number']) <= max_same_disks)\\\n",
    "        and (ok_offset not in used_offset_list):\n",
    "            used_disks_list.append(check_row['serial_number'])\n",
    "            used_offset_list.append(ok_offset)\n",
    "            ok_sample = df.iloc[ok_offset:ok_offset+sample_days]\n",
    "            ok_samples_list.append(ok_sample)\n",
    "            selected_ok = True\n",
    "    if (counter%5000==0): print (int(counter*100/failed_len),'%',end =\" > \")\n",
    "    counter += 1\n",
    "del df\n",
    "gc.collect()\n",
    "df_ok_samples = df_ok_samples.append(ok_samples_list)\n",
    "df_ok_samples = df_ok_samples.reset_index(drop=True)\n",
    "df_ok_samples = df_ok_samples.sort_index(axis=0,ascending=False)\n",
    "print (\"completed\")"
   ]
  },
  {
   "cell_type": "code",
   "execution_count": 67,
   "metadata": {},
   "outputs": [
    {
     "data": {
      "text/html": [
       "<div>\n",
       "<style scoped>\n",
       "    .dataframe tbody tr th:only-of-type {\n",
       "        vertical-align: middle;\n",
       "    }\n",
       "\n",
       "    .dataframe tbody tr th {\n",
       "        vertical-align: top;\n",
       "    }\n",
       "\n",
       "    .dataframe thead th {\n",
       "        text-align: right;\n",
       "    }\n",
       "</style>\n",
       "<table border=\"1\" class=\"dataframe\">\n",
       "  <thead>\n",
       "    <tr style=\"text-align: right;\">\n",
       "      <th></th>\n",
       "      <th>date</th>\n",
       "      <th>weekday</th>\n",
       "      <th>serial_number</th>\n",
       "      <th>capacity_bytes</th>\n",
       "      <th>failure</th>\n",
       "      <th>fails_soon</th>\n",
       "      <th>seq_id</th>\n",
       "      <th>work_day</th>\n",
       "      <th>max_work_day</th>\n",
       "      <th>final_failure</th>\n",
       "      <th>smart_1_raw</th>\n",
       "      <th>smart_2_raw</th>\n",
       "    </tr>\n",
       "  </thead>\n",
       "  <tbody>\n",
       "    <tr>\n",
       "      <th>63639</th>\n",
       "      <td>2016-05-04</td>\n",
       "      <td>2</td>\n",
       "      <td>Z304K41P</td>\n",
       "      <td>4000787030016</td>\n",
       "      <td>0</td>\n",
       "      <td>0</td>\n",
       "      <td>5641</td>\n",
       "      <td>196</td>\n",
       "      <td>706</td>\n",
       "      <td>0</td>\n",
       "      <td>155674568</td>\n",
       "      <td>0</td>\n",
       "    </tr>\n",
       "    <tr>\n",
       "      <th>63638</th>\n",
       "      <td>2016-05-05</td>\n",
       "      <td>3</td>\n",
       "      <td>Z304K41P</td>\n",
       "      <td>4000787030016</td>\n",
       "      <td>0</td>\n",
       "      <td>0</td>\n",
       "      <td>5641</td>\n",
       "      <td>197</td>\n",
       "      <td>706</td>\n",
       "      <td>0</td>\n",
       "      <td>198631672</td>\n",
       "      <td>0</td>\n",
       "    </tr>\n",
       "    <tr>\n",
       "      <th>63637</th>\n",
       "      <td>2016-05-06</td>\n",
       "      <td>4</td>\n",
       "      <td>Z304K41P</td>\n",
       "      <td>4000787030016</td>\n",
       "      <td>0</td>\n",
       "      <td>0</td>\n",
       "      <td>5641</td>\n",
       "      <td>198</td>\n",
       "      <td>706</td>\n",
       "      <td>0</td>\n",
       "      <td>69089520</td>\n",
       "      <td>0</td>\n",
       "    </tr>\n",
       "    <tr>\n",
       "      <th>63636</th>\n",
       "      <td>2016-05-07</td>\n",
       "      <td>5</td>\n",
       "      <td>Z304K41P</td>\n",
       "      <td>4000787030016</td>\n",
       "      <td>0</td>\n",
       "      <td>0</td>\n",
       "      <td>5641</td>\n",
       "      <td>199</td>\n",
       "      <td>706</td>\n",
       "      <td>0</td>\n",
       "      <td>118052472</td>\n",
       "      <td>0</td>\n",
       "    </tr>\n",
       "    <tr>\n",
       "      <th>63635</th>\n",
       "      <td>2016-05-08</td>\n",
       "      <td>6</td>\n",
       "      <td>Z304K41P</td>\n",
       "      <td>4000787030016</td>\n",
       "      <td>0</td>\n",
       "      <td>0</td>\n",
       "      <td>5641</td>\n",
       "      <td>200</td>\n",
       "      <td>706</td>\n",
       "      <td>0</td>\n",
       "      <td>102301768</td>\n",
       "      <td>0</td>\n",
       "    </tr>\n",
       "    <tr>\n",
       "      <th>63634</th>\n",
       "      <td>2017-06-01</td>\n",
       "      <td>3</td>\n",
       "      <td>Z305DHVT</td>\n",
       "      <td>4000787030016</td>\n",
       "      <td>0</td>\n",
       "      <td>0</td>\n",
       "      <td>6753</td>\n",
       "      <td>474</td>\n",
       "      <td>686</td>\n",
       "      <td>0</td>\n",
       "      <td>140664320</td>\n",
       "      <td>0</td>\n",
       "    </tr>\n",
       "    <tr>\n",
       "      <th>63633</th>\n",
       "      <td>2017-06-02</td>\n",
       "      <td>4</td>\n",
       "      <td>Z305DHVT</td>\n",
       "      <td>4000787030016</td>\n",
       "      <td>0</td>\n",
       "      <td>0</td>\n",
       "      <td>6753</td>\n",
       "      <td>475</td>\n",
       "      <td>686</td>\n",
       "      <td>0</td>\n",
       "      <td>237657416</td>\n",
       "      <td>0</td>\n",
       "    </tr>\n",
       "  </tbody>\n",
       "</table>\n",
       "</div>"
      ],
      "text/plain": [
       "            date  weekday serial_number  capacity_bytes  failure  fails_soon  \\\n",
       "63639 2016-05-04        2      Z304K41P   4000787030016        0           0   \n",
       "63638 2016-05-05        3      Z304K41P   4000787030016        0           0   \n",
       "63637 2016-05-06        4      Z304K41P   4000787030016        0           0   \n",
       "63636 2016-05-07        5      Z304K41P   4000787030016        0           0   \n",
       "63635 2016-05-08        6      Z304K41P   4000787030016        0           0   \n",
       "63634 2017-06-01        3      Z305DHVT   4000787030016        0           0   \n",
       "63633 2017-06-02        4      Z305DHVT   4000787030016        0           0   \n",
       "\n",
       "       seq_id  work_day  max_work_day  final_failure  smart_1_raw  smart_2_raw  \n",
       "63639    5641       196           706              0    155674568            0  \n",
       "63638    5641       197           706              0    198631672            0  \n",
       "63637    5641       198           706              0     69089520            0  \n",
       "63636    5641       199           706              0    118052472            0  \n",
       "63635    5641       200           706              0    102301768            0  \n",
       "63634    6753       474           686              0    140664320            0  \n",
       "63633    6753       475           686              0    237657416            0  "
      ]
     },
     "execution_count": 67,
     "metadata": {},
     "output_type": "execute_result"
    }
   ],
   "source": [
    "df_ok_samples.iloc[0:7,:12]"
   ]
  },
  {
   "cell_type": "code",
   "execution_count": 68,
   "metadata": {},
   "outputs": [],
   "source": [
    "df_samples = pd.concat([df_failed_samples, df_ok_samples])\n",
    "df_samples = df_samples.reset_index(drop=True)"
   ]
  },
  {
   "cell_type": "code",
   "execution_count": 69,
   "metadata": {},
   "outputs": [],
   "source": [
    "df_samples.to_pickle(train_data_dir+'/LSTM_train_data.pkl')"
   ]
  },
  {
   "cell_type": "markdown",
   "metadata": {},
   "source": [
    "# 03C. LSTM Sample preparation"
   ]
  },
  {
   "cell_type": "markdown",
   "metadata": {},
   "source": [
    "Let's load our training data again."
   ]
  },
  {
   "cell_type": "code",
   "execution_count": 70,
   "metadata": {},
   "outputs": [
    {
     "data": {
      "text/plain": [
       "(127280, 55)"
      ]
     },
     "execution_count": 70,
     "metadata": {},
     "output_type": "execute_result"
    }
   ],
   "source": [
    "df = pd.read_pickle(train_data_dir+'/LSTM_train_data.pkl')\n",
    "df.shape"
   ]
  },
  {
   "cell_type": "code",
   "execution_count": 71,
   "metadata": {},
   "outputs": [
    {
     "data": {
      "text/html": [
       "<div>\n",
       "<style scoped>\n",
       "    .dataframe tbody tr th:only-of-type {\n",
       "        vertical-align: middle;\n",
       "    }\n",
       "\n",
       "    .dataframe tbody tr th {\n",
       "        vertical-align: top;\n",
       "    }\n",
       "\n",
       "    .dataframe thead th {\n",
       "        text-align: right;\n",
       "    }\n",
       "</style>\n",
       "<table border=\"1\" class=\"dataframe\">\n",
       "  <thead>\n",
       "    <tr style=\"text-align: right;\">\n",
       "      <th></th>\n",
       "      <th>date</th>\n",
       "      <th>weekday</th>\n",
       "      <th>serial_number</th>\n",
       "      <th>capacity_bytes</th>\n",
       "      <th>failure</th>\n",
       "      <th>fails_soon</th>\n",
       "      <th>seq_id</th>\n",
       "      <th>work_day</th>\n",
       "      <th>max_work_day</th>\n",
       "      <th>final_failure</th>\n",
       "      <th>smart_1_raw</th>\n",
       "      <th>smart_2_raw</th>\n",
       "    </tr>\n",
       "  </thead>\n",
       "  <tbody>\n",
       "    <tr>\n",
       "      <th>0</th>\n",
       "      <td>2017-10-17</td>\n",
       "      <td>1</td>\n",
       "      <td>Z306MW5B</td>\n",
       "      <td>4000787030016</td>\n",
       "      <td>0</td>\n",
       "      <td>0</td>\n",
       "      <td>7212</td>\n",
       "      <td>419</td>\n",
       "      <td>427</td>\n",
       "      <td>1</td>\n",
       "      <td>166497128</td>\n",
       "      <td>0</td>\n",
       "    </tr>\n",
       "    <tr>\n",
       "      <th>1</th>\n",
       "      <td>2017-10-18</td>\n",
       "      <td>2</td>\n",
       "      <td>Z306MW5B</td>\n",
       "      <td>4000787030016</td>\n",
       "      <td>0</td>\n",
       "      <td>0</td>\n",
       "      <td>7212</td>\n",
       "      <td>420</td>\n",
       "      <td>427</td>\n",
       "      <td>1</td>\n",
       "      <td>51905616</td>\n",
       "      <td>0</td>\n",
       "    </tr>\n",
       "    <tr>\n",
       "      <th>2</th>\n",
       "      <td>2017-10-19</td>\n",
       "      <td>3</td>\n",
       "      <td>Z306MW5B</td>\n",
       "      <td>4000787030016</td>\n",
       "      <td>0</td>\n",
       "      <td>0</td>\n",
       "      <td>7212</td>\n",
       "      <td>421</td>\n",
       "      <td>427</td>\n",
       "      <td>1</td>\n",
       "      <td>147568504</td>\n",
       "      <td>0</td>\n",
       "    </tr>\n",
       "    <tr>\n",
       "      <th>3</th>\n",
       "      <td>2017-10-20</td>\n",
       "      <td>4</td>\n",
       "      <td>Z306MW5B</td>\n",
       "      <td>4000787030016</td>\n",
       "      <td>0</td>\n",
       "      <td>0</td>\n",
       "      <td>7212</td>\n",
       "      <td>422</td>\n",
       "      <td>427</td>\n",
       "      <td>1</td>\n",
       "      <td>4599640</td>\n",
       "      <td>0</td>\n",
       "    </tr>\n",
       "    <tr>\n",
       "      <th>4</th>\n",
       "      <td>2017-10-21</td>\n",
       "      <td>5</td>\n",
       "      <td>Z306MW5B</td>\n",
       "      <td>4000787030016</td>\n",
       "      <td>0</td>\n",
       "      <td>1</td>\n",
       "      <td>7212</td>\n",
       "      <td>423</td>\n",
       "      <td>427</td>\n",
       "      <td>1</td>\n",
       "      <td>95941328</td>\n",
       "      <td>0</td>\n",
       "    </tr>\n",
       "  </tbody>\n",
       "</table>\n",
       "</div>"
      ],
      "text/plain": [
       "        date  weekday serial_number  capacity_bytes  failure  fails_soon  \\\n",
       "0 2017-10-17        1      Z306MW5B   4000787030016        0           0   \n",
       "1 2017-10-18        2      Z306MW5B   4000787030016        0           0   \n",
       "2 2017-10-19        3      Z306MW5B   4000787030016        0           0   \n",
       "3 2017-10-20        4      Z306MW5B   4000787030016        0           0   \n",
       "4 2017-10-21        5      Z306MW5B   4000787030016        0           1   \n",
       "\n",
       "   seq_id  work_day  max_work_day  final_failure  smart_1_raw  smart_2_raw  \n",
       "0    7212       419           427              1    166497128            0  \n",
       "1    7212       420           427              1     51905616            0  \n",
       "2    7212       421           427              1    147568504            0  \n",
       "3    7212       422           427              1      4599640            0  \n",
       "4    7212       423           427              1     95941328            0  "
      ]
     },
     "execution_count": 71,
     "metadata": {},
     "output_type": "execute_result"
    }
   ],
   "source": [
    "df.iloc[0:5,:12]"
   ]
  },
  {
   "cell_type": "markdown",
   "metadata": {},
   "source": [
    "We need to choose our train and test data smartly. I decided to do it by disk serial number. Separate individual disks will go to test and train set. This way, we have better guarantee that our LSTM model generalizes well and does not use knowledge from training data to predict test data.\n",
    "The traditional, alternative approach (select randomly sampes from the dataset) could cause that some samples would overlap and knowledge about future events could leak into test data."
   ]
  },
  {
   "cell_type": "markdown",
   "metadata": {},
   "source": [
    "Parameter test_disk_split decides, what percentage of all data should go to test data"
   ]
  },
  {
   "cell_type": "code",
   "execution_count": 72,
   "metadata": {},
   "outputs": [
    {
     "name": "stdout",
     "output_type": "stream",
     "text": [
      "no of train disks:  5373\n",
      "no of test disks:  1344\n"
     ]
    }
   ],
   "source": [
    "disks_list = shuffle(df['serial_number'].unique())\n",
    "test_disk_split = 0.2\n",
    "split_position = int((1-test_disk_split)*len(disks_list))\n",
    "train_disks_list = disks_list[:split_position]\n",
    "test_disks_list = disks_list[split_position:]\n",
    "print (\"no of train disks: \",len(train_disks_list))\n",
    "print (\"no of test disks: \",len(test_disks_list))"
   ]
  },
  {
   "cell_type": "markdown",
   "metadata": {},
   "source": [
    "Now we use train/test disk serial numbers to get separate dataset for test and train data"
   ]
  },
  {
   "cell_type": "code",
   "execution_count": 73,
   "metadata": {},
   "outputs": [],
   "source": [
    "df_train = df[df['serial_number'].isin(train_disks_list)]\n",
    "df_test = df[df['serial_number'].isin(test_disks_list)]"
   ]
  },
  {
   "cell_type": "code",
   "execution_count": 74,
   "metadata": {},
   "outputs": [],
   "source": [
    "# index data will hold disk serial numbers for relevant samples. We do not need serial numbers as training or testing features\n",
    "# train index data\n",
    "IDX_train = df_train.iloc[0:,[0,2]].values\n",
    "IDX_train = IDX_train[0::sample_days]\n",
    "# test index data\n",
    "IDX_test = df_test.iloc[0:,[0,2]].values\n",
    "IDX_test = IDX_test[0::sample_days]"
   ]
  },
  {
   "cell_type": "markdown",
   "metadata": {},
   "source": [
    "We remove all helper, technical columns and not needed columns and a target column from a features (X) set. As target column fails_soon is not a last column, we cannot easily slice it."
   ]
  },
  {
   "cell_type": "code",
   "execution_count": 75,
   "metadata": {},
   "outputs": [],
   "source": [
    "drop_columns_list = ['date','serial_number','failure','fails_soon','seq_id','max_work_day','final_failure']\n",
    "X_train = df_train.drop(columns=drop_columns_list)\n",
    "X_test = df_test.drop(columns=drop_columns_list)\n",
    "Y_train = df_train.iloc[:,5]\n",
    "Y_test = df_test.iloc[:,5]"
   ]
  },
  {
   "cell_type": "code",
   "execution_count": 76,
   "metadata": {},
   "outputs": [
    {
     "data": {
      "text/html": [
       "<div>\n",
       "<style scoped>\n",
       "    .dataframe tbody tr th:only-of-type {\n",
       "        vertical-align: middle;\n",
       "    }\n",
       "\n",
       "    .dataframe tbody tr th {\n",
       "        vertical-align: top;\n",
       "    }\n",
       "\n",
       "    .dataframe thead th {\n",
       "        text-align: right;\n",
       "    }\n",
       "</style>\n",
       "<table border=\"1\" class=\"dataframe\">\n",
       "  <thead>\n",
       "    <tr style=\"text-align: right;\">\n",
       "      <th></th>\n",
       "      <th>weekday</th>\n",
       "      <th>capacity_bytes</th>\n",
       "      <th>work_day</th>\n",
       "      <th>smart_1_raw</th>\n",
       "      <th>smart_2_raw</th>\n",
       "      <th>smart_3_raw</th>\n",
       "      <th>smart_4_raw</th>\n",
       "      <th>smart_5_raw</th>\n",
       "      <th>smart_7_raw</th>\n",
       "      <th>smart_8_raw</th>\n",
       "      <th>smart_9_raw</th>\n",
       "      <th>smart_10_raw</th>\n",
       "    </tr>\n",
       "  </thead>\n",
       "  <tbody>\n",
       "    <tr>\n",
       "      <th>50</th>\n",
       "      <td>6</td>\n",
       "      <td>4000787030016</td>\n",
       "      <td>131</td>\n",
       "      <td>103879304</td>\n",
       "      <td>0</td>\n",
       "      <td>0</td>\n",
       "      <td>4</td>\n",
       "      <td>0</td>\n",
       "      <td>98228901</td>\n",
       "      <td>0</td>\n",
       "      <td>3135</td>\n",
       "      <td>0</td>\n",
       "    </tr>\n",
       "    <tr>\n",
       "      <th>51</th>\n",
       "      <td>0</td>\n",
       "      <td>4000787030016</td>\n",
       "      <td>132</td>\n",
       "      <td>204068512</td>\n",
       "      <td>0</td>\n",
       "      <td>0</td>\n",
       "      <td>4</td>\n",
       "      <td>0</td>\n",
       "      <td>98925204</td>\n",
       "      <td>0</td>\n",
       "      <td>3159</td>\n",
       "      <td>0</td>\n",
       "    </tr>\n",
       "    <tr>\n",
       "      <th>52</th>\n",
       "      <td>1</td>\n",
       "      <td>4000787030016</td>\n",
       "      <td>133</td>\n",
       "      <td>100851520</td>\n",
       "      <td>0</td>\n",
       "      <td>0</td>\n",
       "      <td>4</td>\n",
       "      <td>0</td>\n",
       "      <td>99568277</td>\n",
       "      <td>0</td>\n",
       "      <td>3183</td>\n",
       "      <td>0</td>\n",
       "    </tr>\n",
       "    <tr>\n",
       "      <th>53</th>\n",
       "      <td>2</td>\n",
       "      <td>4000787030016</td>\n",
       "      <td>134</td>\n",
       "      <td>65844728</td>\n",
       "      <td>0</td>\n",
       "      <td>0</td>\n",
       "      <td>4</td>\n",
       "      <td>0</td>\n",
       "      <td>100275771</td>\n",
       "      <td>0</td>\n",
       "      <td>3207</td>\n",
       "      <td>0</td>\n",
       "    </tr>\n",
       "    <tr>\n",
       "      <th>54</th>\n",
       "      <td>3</td>\n",
       "      <td>4000787030016</td>\n",
       "      <td>135</td>\n",
       "      <td>90875048</td>\n",
       "      <td>0</td>\n",
       "      <td>0</td>\n",
       "      <td>4</td>\n",
       "      <td>0</td>\n",
       "      <td>100893021</td>\n",
       "      <td>0</td>\n",
       "      <td>3231</td>\n",
       "      <td>0</td>\n",
       "    </tr>\n",
       "  </tbody>\n",
       "</table>\n",
       "</div>"
      ],
      "text/plain": [
       "    weekday  capacity_bytes  work_day  smart_1_raw  smart_2_raw  smart_3_raw  \\\n",
       "50        6   4000787030016       131    103879304            0            0   \n",
       "51        0   4000787030016       132    204068512            0            0   \n",
       "52        1   4000787030016       133    100851520            0            0   \n",
       "53        2   4000787030016       134     65844728            0            0   \n",
       "54        3   4000787030016       135     90875048            0            0   \n",
       "\n",
       "    smart_4_raw  smart_5_raw  smart_7_raw  smart_8_raw  smart_9_raw  \\\n",
       "50            4            0     98228901            0         3135   \n",
       "51            4            0     98925204            0         3159   \n",
       "52            4            0     99568277            0         3183   \n",
       "53            4            0    100275771            0         3207   \n",
       "54            4            0    100893021            0         3231   \n",
       "\n",
       "    smart_10_raw  \n",
       "50             0  \n",
       "51             0  \n",
       "52             0  \n",
       "53             0  \n",
       "54             0  "
      ]
     },
     "execution_count": 76,
     "metadata": {},
     "output_type": "execute_result"
    }
   ],
   "source": [
    "X_train.iloc[0:5,:12]"
   ]
  },
  {
   "cell_type": "code",
   "execution_count": 77,
   "metadata": {},
   "outputs": [
    {
     "data": {
      "text/plain": [
       "50    0\n",
       "51    0\n",
       "52    0\n",
       "53    0\n",
       "54    1\n",
       "Name: fails_soon, dtype: int32"
      ]
     },
     "execution_count": 77,
     "metadata": {},
     "output_type": "execute_result"
    }
   ],
   "source": [
    "Y_train.iloc[0:5]"
   ]
  },
  {
   "cell_type": "code",
   "execution_count": 78,
   "metadata": {},
   "outputs": [
    {
     "data": {
      "text/html": [
       "<div>\n",
       "<style scoped>\n",
       "    .dataframe tbody tr th:only-of-type {\n",
       "        vertical-align: middle;\n",
       "    }\n",
       "\n",
       "    .dataframe tbody tr th {\n",
       "        vertical-align: top;\n",
       "    }\n",
       "\n",
       "    .dataframe thead th {\n",
       "        text-align: right;\n",
       "    }\n",
       "</style>\n",
       "<table border=\"1\" class=\"dataframe\">\n",
       "  <thead>\n",
       "    <tr style=\"text-align: right;\">\n",
       "      <th></th>\n",
       "      <th>weekday</th>\n",
       "      <th>capacity_bytes</th>\n",
       "      <th>work_day</th>\n",
       "      <th>smart_1_raw</th>\n",
       "      <th>smart_2_raw</th>\n",
       "      <th>smart_3_raw</th>\n",
       "      <th>smart_4_raw</th>\n",
       "      <th>smart_5_raw</th>\n",
       "      <th>smart_7_raw</th>\n",
       "      <th>smart_8_raw</th>\n",
       "      <th>smart_9_raw</th>\n",
       "      <th>smart_10_raw</th>\n",
       "    </tr>\n",
       "  </thead>\n",
       "  <tbody>\n",
       "    <tr>\n",
       "      <th>0</th>\n",
       "      <td>1</td>\n",
       "      <td>4000787030016</td>\n",
       "      <td>419</td>\n",
       "      <td>166497128</td>\n",
       "      <td>0</td>\n",
       "      <td>0</td>\n",
       "      <td>4</td>\n",
       "      <td>0</td>\n",
       "      <td>339701174</td>\n",
       "      <td>0</td>\n",
       "      <td>10137</td>\n",
       "      <td>0</td>\n",
       "    </tr>\n",
       "    <tr>\n",
       "      <th>1</th>\n",
       "      <td>2</td>\n",
       "      <td>4000787030016</td>\n",
       "      <td>420</td>\n",
       "      <td>51905616</td>\n",
       "      <td>0</td>\n",
       "      <td>0</td>\n",
       "      <td>4</td>\n",
       "      <td>0</td>\n",
       "      <td>340455664</td>\n",
       "      <td>0</td>\n",
       "      <td>10160</td>\n",
       "      <td>0</td>\n",
       "    </tr>\n",
       "    <tr>\n",
       "      <th>2</th>\n",
       "      <td>3</td>\n",
       "      <td>4000787030016</td>\n",
       "      <td>421</td>\n",
       "      <td>147568504</td>\n",
       "      <td>0</td>\n",
       "      <td>0</td>\n",
       "      <td>4</td>\n",
       "      <td>0</td>\n",
       "      <td>341490395</td>\n",
       "      <td>0</td>\n",
       "      <td>10190</td>\n",
       "      <td>0</td>\n",
       "    </tr>\n",
       "    <tr>\n",
       "      <th>3</th>\n",
       "      <td>4</td>\n",
       "      <td>4000787030016</td>\n",
       "      <td>422</td>\n",
       "      <td>4599640</td>\n",
       "      <td>0</td>\n",
       "      <td>0</td>\n",
       "      <td>4</td>\n",
       "      <td>0</td>\n",
       "      <td>342234422</td>\n",
       "      <td>0</td>\n",
       "      <td>10214</td>\n",
       "      <td>0</td>\n",
       "    </tr>\n",
       "    <tr>\n",
       "      <th>4</th>\n",
       "      <td>5</td>\n",
       "      <td>4000787030016</td>\n",
       "      <td>423</td>\n",
       "      <td>95941328</td>\n",
       "      <td>0</td>\n",
       "      <td>0</td>\n",
       "      <td>4</td>\n",
       "      <td>0</td>\n",
       "      <td>342967290</td>\n",
       "      <td>0</td>\n",
       "      <td>10238</td>\n",
       "      <td>0</td>\n",
       "    </tr>\n",
       "  </tbody>\n",
       "</table>\n",
       "</div>"
      ],
      "text/plain": [
       "   weekday  capacity_bytes  work_day  smart_1_raw  smart_2_raw  smart_3_raw  \\\n",
       "0        1   4000787030016       419    166497128            0            0   \n",
       "1        2   4000787030016       420     51905616            0            0   \n",
       "2        3   4000787030016       421    147568504            0            0   \n",
       "3        4   4000787030016       422      4599640            0            0   \n",
       "4        5   4000787030016       423     95941328            0            0   \n",
       "\n",
       "   smart_4_raw  smart_5_raw  smart_7_raw  smart_8_raw  smart_9_raw  \\\n",
       "0            4            0    339701174            0        10137   \n",
       "1            4            0    340455664            0        10160   \n",
       "2            4            0    341490395            0        10190   \n",
       "3            4            0    342234422            0        10214   \n",
       "4            4            0    342967290            0        10238   \n",
       "\n",
       "   smart_10_raw  \n",
       "0             0  \n",
       "1             0  \n",
       "2             0  \n",
       "3             0  \n",
       "4             0  "
      ]
     },
     "execution_count": 78,
     "metadata": {},
     "output_type": "execute_result"
    }
   ],
   "source": [
    "X_test.iloc[0:5,:12]"
   ]
  },
  {
   "cell_type": "code",
   "execution_count": 79,
   "metadata": {},
   "outputs": [
    {
     "data": {
      "text/plain": [
       "0    0\n",
       "1    0\n",
       "2    0\n",
       "3    0\n",
       "4    1\n",
       "Name: fails_soon, dtype: int32"
      ]
     },
     "execution_count": 79,
     "metadata": {},
     "output_type": "execute_result"
    }
   ],
   "source": [
    "Y_test.iloc[0:5]"
   ]
  },
  {
   "cell_type": "markdown",
   "metadata": {},
   "source": [
    "First we change Pandas dataframes to Numpy arrays. Then we scale data (train scaler should be used to scale test data too). Finally, we reshape data to get 3D data (num_samples, timesteps, num_featutes) needed to feed LSTM."
   ]
  },
  {
   "cell_type": "code",
   "execution_count": 80,
   "metadata": {},
   "outputs": [],
   "source": [
    "# X train data\n",
    "X_train = X_train.values\n",
    "X_train = X_train.astype(np.float64)\n",
    "standard_scaler = preprocessing.StandardScaler().fit(X_train)\n",
    "X_train = standard_scaler.transform(X_train)\n",
    "X_train = X_train.reshape(int(X_train.shape[0]/sample_days),sample_days,X_train.shape[1])\n",
    "# X test data\n",
    "X_test = X_test.values\n",
    "X_test = X_test.astype(np.float64)\n",
    "X_test = standard_scaler.transform(X_test)\n",
    "X_test = X_test.reshape(int(X_test.shape[0]/sample_days),sample_days,X_test.shape[1])"
   ]
  },
  {
   "cell_type": "code",
   "execution_count": 81,
   "metadata": {},
   "outputs": [],
   "source": [
    "# Y train daa\n",
    "Y_train = Y_train.values\n",
    "Y_train = Y_train[sample_days-1::sample_days]\n",
    "# Y test data\n",
    "Y_test = Y_test.values\n",
    "Y_test = Y_test[sample_days-1::sample_days]"
   ]
  },
  {
   "cell_type": "code",
   "execution_count": 82,
   "metadata": {},
   "outputs": [],
   "source": [
    "# shuffle all created datasets together to ensure variability\n",
    "IDX_train, X_train, Y_train = shuffle(IDX_train, X_train, Y_train)\n",
    "IDX_test, X_test, Y_test = shuffle(IDX_test, X_test, Y_test)"
   ]
  },
  {
   "cell_type": "code",
   "execution_count": 83,
   "metadata": {},
   "outputs": [
    {
     "data": {
      "text/plain": [
       "136"
      ]
     },
     "execution_count": 83,
     "metadata": {},
     "output_type": "execute_result"
    }
   ],
   "source": [
    "gc.collect()"
   ]
  },
  {
   "cell_type": "markdown",
   "metadata": {},
   "source": [
    "# 04. Neural Network training and evaluation"
   ]
  },
  {
   "cell_type": "markdown",
   "metadata": {},
   "source": [
    "Below is the definition of our DNN model. I use multi-layer DNN with three LSTM layers and 3 feed-forward layers. Our network performs classification tasks, predicting whether a given sample belongs to fails_soon  class (fails_soon = 1) or not fails_soon class (fails_soon = 0)"
   ]
  },
  {
   "cell_type": "code",
   "execution_count": 84,
   "metadata": {},
   "outputs": [],
   "source": [
    "dp_lvl = 0.2\n",
    "regularizer_lvl = 0.002\n",
    "# design network\n",
    "model = Sequential()\n",
    "model.add(LSTM(256, input_shape=(X_train.shape[1], X_train.shape[2]),dropout = dp_lvl,recurrent_dropout = dp_lvl, return_sequences =  True ))\n",
    "model.add(LSTM(256, dropout = dp_lvl,recurrent_dropout = dp_lvl, return_sequences =  True ))\n",
    "model.add(LSTM(256, dropout = dp_lvl,recurrent_dropout = dp_lvl, return_sequences =  False ))\n",
    "model.add(Dense(256, activation='sigmoid',activity_regularizer=regularizers.l2(regularizer_lvl)))\n",
    "model.add(Dense(256, activation='sigmoid',activity_regularizer=regularizers.l2(regularizer_lvl)))\n",
    "model.add(Dense(1, activation='sigmoid',activity_regularizer=regularizers.l2(regularizer_lvl)))\n",
    "epochs_num = 10\n",
    "learning_rate = 0.001\n",
    "decay_rate = 3 * learning_rate / epochs_num\n",
    "optimizer = optimizers.Adam(lr=learning_rate, beta_1=0.9, beta_2=0.999, epsilon=None,decay = decay_rate)\n",
    "model.compile(optimizer=optimizer,loss='binary_crossentropy',metrics=['accuracy'])"
   ]
  },
  {
   "cell_type": "markdown",
   "metadata": {},
   "source": [
    "I use quite small validation set for learning control, as the number of samples in training set is not too large. The ultimate test is done via test set anyway."
   ]
  },
  {
   "cell_type": "code",
   "execution_count": 85,
   "metadata": {},
   "outputs": [
    {
     "name": "stdout",
     "output_type": "stream",
     "text": [
      "Train on 18244 samples, validate on 2028 samples\n",
      "Epoch 1/10\n",
      "18244/18244 [==============================] - 86s 5ms/step - loss: 0.9430 - acc: 0.5779 - val_loss: 0.7258 - val_acc: 0.6879\n",
      "Epoch 2/10\n",
      "18244/18244 [==============================] - 77s 4ms/step - loss: 0.6933 - acc: 0.6758 - val_loss: 0.6423 - val_acc: 0.7066\n",
      "Epoch 3/10\n",
      "18244/18244 [==============================] - 78s 4ms/step - loss: 0.6410 - acc: 0.6984 - val_loss: 0.5897 - val_acc: 0.7327\n",
      "Epoch 4/10\n",
      "18244/18244 [==============================] - 78s 4ms/step - loss: 0.6091 - acc: 0.7137 - val_loss: 0.5739 - val_acc: 0.7377\n",
      "Epoch 5/10\n",
      "18244/18244 [==============================] - 77s 4ms/step - loss: 0.5903 - acc: 0.7221 - val_loss: 0.5761 - val_acc: 0.7283\n",
      "Epoch 6/10\n",
      "18244/18244 [==============================] - 84s 5ms/step - loss: 0.5791 - acc: 0.7251 - val_loss: 0.5524 - val_acc: 0.7431\n",
      "Epoch 7/10\n",
      "18244/18244 [==============================] - 89s 5ms/step - loss: 0.5695 - acc: 0.7266 - val_loss: 0.5670 - val_acc: 0.7229\n",
      "Epoch 8/10\n",
      "18244/18244 [==============================] - 80s 4ms/step - loss: 0.5639 - acc: 0.7307 - val_loss: 0.5473 - val_acc: 0.7461\n",
      "Epoch 9/10\n",
      "18244/18244 [==============================] - 79s 4ms/step - loss: 0.5581 - acc: 0.7340 - val_loss: 0.5466 - val_acc: 0.7377\n",
      "Epoch 10/10\n",
      "18244/18244 [==============================] - 81s 4ms/step - loss: 0.5542 - acc: 0.7352 - val_loss: 0.5318 - val_acc: 0.7579\n"
     ]
    }
   ],
   "source": [
    "# fit network\n",
    "with tf.device('/gpu:0'):\n",
    "    history = model.fit(X_train, Y_train, epochs=epochs_num, batch_size=16, validation_split=0.1, verbose=1, shuffle=True)"
   ]
  },
  {
   "cell_type": "code",
   "execution_count": 86,
   "metadata": {},
   "outputs": [
    {
     "data": {
      "image/png": "[encoded data removed]",
      "text/plain": [
       "<matplotlib.figure.Figure at 0x2712dd38710>"
      ]
     },
     "metadata": {},
     "output_type": "display_data"
    }
   ],
   "source": [
    "# show plot accuracy changes during training\n",
    "plt.plot(history.history['acc'],'g')\n",
    "plt.plot(history.history['val_acc'],'r')\n",
    "plt.title('accuracy across epochs')\n",
    "plt.ylabel('accuracy level')\n",
    "plt.xlabel('# epoch')\n",
    "plt.legend(['train', 'test'], loc='lower right')\n",
    "plt.show()"
   ]
  },
  {
   "cell_type": "code",
   "execution_count": 87,
   "metadata": {},
   "outputs": [
    {
     "name": "stdout",
     "output_type": "stream",
     "text": [
      "5184/5184 [==============================] - 3s 571us/step\n",
      "acc: 75.27%\n",
      "             precision    recall  f1-score   support\n",
      "\n",
      "          0       0.68      0.95      0.79      2570\n",
      "          1       0.92      0.56      0.70      2614\n",
      "\n",
      "avg / total       0.80      0.75      0.74      5184\n",
      "\n"
     ]
    }
   ],
   "source": [
    "scores = model.evaluate(X_test, Y_test, verbose=1)\n",
    "print(\"%s: %.2f%%\" % (model.metrics_names[1], scores[1]*100))\n",
    "Y_pred = model.predict_classes(X_test)\n",
    "Y_test = Y_test.reshape(Y_test.shape[0],1)\n",
    "print(classification_report(Y_test, Y_pred))"
   ]
  },
  {
   "cell_type": "markdown",
   "metadata": {},
   "source": [
    "This is interesting result: \n",
    "- The overall accuracy (73,53%) is good, but not impressive. \n",
    "- However, results for class 1 (disks that \"failed soon\" so within our predict_failure_days window) are quite interesting\n",
    "- Precision equal to 91% means that once our model predicts disk will \"fail soon\" it is correct roughly in 9 out of 10 cases\n",
    "- Recall equal to 50% means that we are able to identify half of failed disk from the whole pool of failed disks. The other half will go undetected.\n",
    "\n",
    "The resuls is still fairly acceptable for everyday business use. Even if we can detect only hald of failed disks, our model is definitely quite precise in failure prediction.\n",
    "NOTE: Remember this is machine learning (statistical) model. Your results can differ from mine to some extent."
   ]
  },
  {
   "cell_type": "markdown",
   "metadata": {},
   "source": [
    "Now we will play with our network to predict a few individual samples. You can re-run this cell manually as it select random disk from train set."
   ]
  },
  {
   "cell_type": "code",
   "execution_count": 89,
   "metadata": {},
   "outputs": [
    {
     "name": "stdout",
     "output_type": "stream",
     "text": [
      "Random disks: \n",
      " [[Timestamp('2015-12-20 00:00:00') 'Z300K99Q']\n",
      " [Timestamp('2015-04-11 00:00:00') 'Z3011WD7']\n",
      " [Timestamp('2016-10-03 00:00:00') 'S300Z4EB']\n",
      " [Timestamp('2016-07-04 00:00:00') 'Z305CKQX']\n",
      " [Timestamp('2015-12-20 00:00:00') 'Z304HS1X']\n",
      " [Timestamp('2016-07-25 00:00:00') 'Z3029FA4']\n",
      " [Timestamp('2016-01-24 00:00:00') 'Z3025Z3Q']\n",
      " [Timestamp('2015-05-17 00:00:00') 'W300R7RG']\n",
      " [Timestamp('2015-12-22 00:00:00') 'W3005PYL']\n",
      " [Timestamp('2016-01-07 00:00:00') 'Z302FZTY']\n",
      " [Timestamp('2017-05-10 00:00:00') 'W300H3HK']\n",
      " [Timestamp('2016-09-20 00:00:00') 'Z305D22K']\n",
      " [Timestamp('2015-03-11 00:00:00') 'Z302AYP0']\n",
      " [Timestamp('2017-05-25 00:00:00') 'Z300XGKG']\n",
      " [Timestamp('2017-10-28 00:00:00') 'Z3015CB6']\n",
      " [Timestamp('2017-12-04 00:00:00') 'Z305G3NP']\n",
      " [Timestamp('2017-02-07 00:00:00') 'Z300ZT4T']\n",
      " [Timestamp('2017-10-21 00:00:00') 'Z300JDZC']\n",
      " [Timestamp('2017-05-12 00:00:00') 'Z302FDDC']\n",
      " [Timestamp('2015-09-30 00:00:00') 'Z3029GYZ']]\n",
      "Y_test (real flags)         [0 0 0 1 0 1 1 1 0 1 1 0 0 1 0 0 0 1 0 0]\n",
      "Y_predict (predicted flags) [0 0 0 0 0 1 1 1 0 1 0 0 1 0 1 0 0 0 0 0]\n"
     ]
    }
   ],
   "source": [
    "radom_index = randrange(0,X_test.shape[0])\n",
    "num_samples = 20\n",
    "print (\"Random disks: \\n\",IDX_test[radom_index:radom_index+num_samples,:])\n",
    "print (\"Y_test (real flags)        \",Y_test[radom_index:radom_index+num_samples,:][:,0])\n",
    "X_test_sample = X_test[radom_index:radom_index+num_samples,:,:]\n",
    "Y_pred_sample = model.predict_classes(X_test_sample)[:,0]\n",
    "print (\"Y_predict (predicted flags)\",Y_pred_sample)"
   ]
  }
 ],
 "metadata": {
  "kernelspec": {
   "display_name": "Python 3",
   "language": "python",
   "name": "python3"
  },
  "language_info": {
   "codemirror_mode": {
    "name": "ipython",
    "version": 3
   },
   "file_extension": ".py",
   "mimetype": "text/x-python",
   "name": "python",
   "nbconvert_exporter": "python",
   "pygments_lexer": "ipython3",
   "version": "3.6.4"
  }
 },
 "nbformat": 4,
 "nbformat_minor": 2
}
