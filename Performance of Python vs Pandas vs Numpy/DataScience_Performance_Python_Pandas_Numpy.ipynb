{
 "cells": [
  {
   "cell_type": "markdown",
   "metadata": {},
   "source": [
    "# Data Science: Performance of Pure Python vs Pandas vs Numpy"
   ]
  },
  {
   "cell_type": "markdown",
   "metadata": {},
   "source": [
    "## 01. Intro & Imports\n",
    "\n",
    "Data Science: Performance of Pure Python vs Pandas vs Numpy Notebook\n",
    "\n",
    "In this notebook we will compare data processing speed of pure Python, Pandas and Numpy\n",
    "\n",
    "* Notebook @author Lukasz KM, lucas.mlexp@gmail.com, http://machinelearningexp.com\n",
    "* Notebook License: Creative Commons CC-BY-SA https://creativecommons.org/licenses/by-sa/4.0/"
   ]
  },
  {
   "cell_type": "code",
   "execution_count": 1,
   "metadata": {
    "collapsed": true
   },
   "outputs": [],
   "source": [
    "# Python 3.6\n",
    "import os\n",
    "import sys\n",
    "import gc\n",
    "import random\n",
    "import time\n",
    "import numpy as np\n",
    "import pandas as pd\n",
    "import matplotlib.pyplot as plt\n",
    "%matplotlib inline"
   ]
  },
  {
   "cell_type": "markdown",
   "metadata": {},
   "source": [
    "## 02. Prepare dummy random dataset"
   ]
  },
  {
   "cell_type": "code",
   "execution_count": 2,
   "metadata": {
    "collapsed": true
   },
   "outputs": [],
   "source": [
    "# We will prepare artificial dataset that contains orders of the product.\n",
    "# Each order will have random number of items ordered and random price within given range\n",
    "dataset_python = []\n",
    "range_products = [1,10000] # number of products in the dataset\n",
    "range_orders = [1,20] # range of orders for product from which to select one random value\n",
    "range_quantity = [1,100] # range of quantity in order from which to select one random value\n",
    "range_price = [0.1,50.00] # range of product prices from which to select one random value"
   ]
  },
  {
   "cell_type": "code",
   "execution_count": 3,
   "metadata": {
    "collapsed": true
   },
   "outputs": [],
   "source": [
    "def generate_dummy_dataset(range_products,range_orders,products_quantity,products_price):\n",
    "    generated_dataset = []\n",
    "    for idx in range(range_products[0],range_products[1]):\n",
    "        random_orders = random.randint(range_orders[0],range_orders[1]) \n",
    "        for odx in range(random_orders):\n",
    "            quantity = random.randint(range_quantity[0],range_quantity[1])\n",
    "            price = random.uniform(range_price[0],range_price[1])\n",
    "            generated_dataset.append([idx,odx,quantity,price])\n",
    "    return generated_dataset"
   ]
  },
  {
   "cell_type": "code",
   "execution_count": 4,
   "metadata": {},
   "outputs": [
    {
     "name": "stdout",
     "output_type": "stream",
     "text": [
      "Dataset size 106122 records\n",
      "\n",
      "product_id, product_order_num, quantity, price,\n"
     ]
    },
    {
     "data": {
      "text/plain": [
       "[[1, 0, 29, 9.823151448371421],\n",
       " [1, 1, 18, 49.21229550643979],\n",
       " [1, 2, 86, 6.406249725444821]]"
      ]
     },
     "execution_count": 4,
     "metadata": {},
     "output_type": "execute_result"
    }
   ],
   "source": [
    "dataset_python = generate_dummy_dataset(range_products,range_orders,range_quantity,range_price)\n",
    "print (\"Dataset size\",len(dataset_python),\"records\\n\")\n",
    "print ('product_id,','product_order_num,','quantity,','price,')\n",
    "dataset_python[0:3]"
   ]
  },
  {
   "cell_type": "markdown",
   "metadata": {},
   "source": [
    "## 03a. Pure Python function (nested loops)"
   ]
  },
  {
   "cell_type": "code",
   "execution_count": 5,
   "metadata": {
    "collapsed": true
   },
   "outputs": [],
   "source": [
    "def gen_stats_python1(dataset_python):\n",
    "    start = time.time()\n",
    "    tag = 'Python (\"nested loops\")'\n",
    "    product_stats = []\n",
    "    unique_products = set([x[0] for x in dataset_python])\n",
    "    for product_id in unique_products:\n",
    "        product_items = [x for x in dataset_python if x[0]==product_id ]\n",
    "        num_orders = len(product_items)\n",
    "        total_quantity = 0\n",
    "        total_price = 0\n",
    "        for row in product_items:\n",
    "            total_quantity += row[2]\n",
    "            total_price += row[3]\n",
    "        avg_price = float(total_price/num_orders)\n",
    "        product_stats.append([int(product_id),int(num_orders),int(total_quantity),round(avg_price,2)])\n",
    "    end = time.time()\n",
    "    working_time = end-start\n",
    "    return product_stats,working_time,tag"
   ]
  },
  {
   "cell_type": "markdown",
   "metadata": {},
   "source": [
    "## 03b. Pure Python function (rolling sums)"
   ]
  },
  {
   "cell_type": "code",
   "execution_count": 6,
   "metadata": {
    "collapsed": true
   },
   "outputs": [],
   "source": [
    "def gen_stats_python2(dataset_python):\n",
    "    start = time.time()\n",
    "    tag = 'Python (\"rolling sums\")'\n",
    "    dataset_python = sorted(dataset_python, key=lambda item: item[0])\n",
    "    product_stats = []\n",
    "    prev_product_id = dataset_python[0][0]\n",
    "    num_orders = 0\n",
    "    sum_quantity = 0\n",
    "    sum_prices = 0\n",
    "    for row in dataset_python:\n",
    "        if row[0]==prev_product_id:\n",
    "            num_orders += 1\n",
    "            sum_quantity += row[2]\n",
    "            sum_prices += row[3]\n",
    "        else:\n",
    "            product_stats.append([prev_product_id,int(num_orders),int(sum_quantity),round(sum_prices/num_orders,2)])\n",
    "            prev_product_id = row[0]\n",
    "            num_orders = 1\n",
    "            sum_quantity = row[2]\n",
    "            sum_prices = row[3]\n",
    "    product_stats.append([prev_product_id,int(num_orders),int(sum_quantity),round(sum_prices/num_orders,2)])                      \n",
    "    end = time.time()\n",
    "    working_time = end-start\n",
    "    return product_stats,working_time,tag"
   ]
  },
  {
   "cell_type": "markdown",
   "metadata": {},
   "source": [
    "## 04a. Pandas function (nested loops)"
   ]
  },
  {
   "cell_type": "code",
   "execution_count": 7,
   "metadata": {
    "collapsed": true
   },
   "outputs": [],
   "source": [
    "def gen_stats_pandas1(dataset_python):\n",
    "    start = time.time()\n",
    "    tag = 'Pandas (\"nested loops\")'\n",
    "    dataset_pandas = pd.DataFrame(data=dataset_python,columns=['product_id','product_order_num','quantity','price'])\n",
    "    product_stats = []\n",
    "    for product_id in pd.unique(dataset_pandas['product_id']):\n",
    "        product_items = dataset_pandas.loc[dataset_pandas['product_id'] == product_id]\n",
    "        num_orders = product_items.shape[0]\n",
    "        total_quantity = product_items['quantity'].sum()\n",
    "        avg_price = float(product_items['price'].mean())\n",
    "        product_stats.append([int(product_id),int(num_orders),int(total_quantity),round(avg_price,2)])\n",
    "    end = time.time()\n",
    "    working_time = end-start\n",
    "    return product_stats,working_time,tag"
   ]
  },
  {
   "cell_type": "markdown",
   "metadata": {},
   "source": [
    "## 04b. Pandas function (group & aggregate)"
   ]
  },
  {
   "cell_type": "code",
   "execution_count": 8,
   "metadata": {
    "collapsed": true
   },
   "outputs": [],
   "source": [
    "def gen_stats_pandas2(dataset_python):\n",
    "    start = time.time()\n",
    "    tag = 'Pandas (\"group/aggregate\")'\n",
    "    dataset_pandas = pd.DataFrame(data=dataset_python,columns=['product_id','product_order_num','quantity','price'])\n",
    "    product_stats = []\n",
    "    calc_stats = dataset_pandas.groupby('product_id')\n",
    "    calc_stats = calc_stats.aggregate({'product_order_num': 'count','quantity': 'sum','price': 'mean'})\n",
    "    calc_stats = calc_stats.reset_index().values.tolist()\n",
    "    product_stats = [[int(item[0]),int(item[1]),int(item[2]),round(item[3],2)] for item in calc_stats]\n",
    "    end = time.time()\n",
    "    working_time = end-start\n",
    "    return product_stats,working_time,tag"
   ]
  },
  {
   "cell_type": "markdown",
   "metadata": {},
   "source": [
    "## 05a. Numpy function (nested loops)"
   ]
  },
  {
   "cell_type": "code",
   "execution_count": 9,
   "metadata": {
    "collapsed": true
   },
   "outputs": [],
   "source": [
    "def gen_stats_numpy1(dataset_python):\n",
    "    start = time.time()\n",
    "    tag = 'Numpy (\"nested loops\")'\n",
    "    dataset_numpy = np.array(dataset_python)\n",
    "    product_stats = []\n",
    "    for product_id in np.nditer(np.unique(dataset_numpy[:,0]),op_dtypes=['float64']):\n",
    "        product_items = dataset_numpy[dataset_numpy[:,0] == product_id]\n",
    "        num_orders = product_items.shape[0]\n",
    "        total_quantity = product_items[:,2].sum()\n",
    "        avg_price = float(product_items[:,3].mean())\n",
    "        product_stats.append([int(product_id),int(num_orders),int(total_quantity),round(avg_price,2)])\n",
    "    end = time.time()\n",
    "    working_time = end-start\n",
    "    return product_stats,working_time,tag"
   ]
  },
  {
   "cell_type": "markdown",
   "metadata": {},
   "source": [
    "## 05b. Numpy function (array split)"
   ]
  },
  {
   "cell_type": "code",
   "execution_count": 10,
   "metadata": {
    "collapsed": true
   },
   "outputs": [],
   "source": [
    "def gen_stats_numpy2(dataset_python):\n",
    "    start = time.time()\n",
    "    tag = 'Numpy (\"array split\")'\n",
    "    dataset_numpy = np.array(dataset_python)\n",
    "    unique_products,unique_indices = np.unique(dataset_numpy[:,0],return_index = True)\n",
    "    split = np.split(dataset_numpy,unique_indices)[1:]\n",
    "    product_stats = \\\n",
    "    [[int(item[0,0]),item.shape[0],int(np.sum(item[:,2])),float(np.round(np.sum(item[:,3])/item.shape[0],2))]\\\n",
    "     for item in split]\n",
    "    end = time.time()\n",
    "    working_time = end-start\n",
    "    return product_stats,working_time,tag"
   ]
  },
  {
   "cell_type": "markdown",
   "metadata": {},
   "source": [
    "## 06. Prepare function dispatcher"
   ]
  },
  {
   "cell_type": "code",
   "execution_count": 11,
   "metadata": {
    "collapsed": true
   },
   "outputs": [],
   "source": [
    "dispatcher  = [gen_stats_python1,\n",
    "               gen_stats_python2,\n",
    "               gen_stats_pandas1,\n",
    "               gen_stats_pandas2,\n",
    "               gen_stats_numpy1,\n",
    "               gen_stats_numpy2]"
   ]
  },
  {
   "cell_type": "markdown",
   "metadata": {},
   "source": [
    "## 07. Check if all functions generate the same result"
   ]
  },
  {
   "cell_type": "code",
   "execution_count": 12,
   "metadata": {},
   "outputs": [
    {
     "name": "stdout",
     "output_type": "stream",
     "text": [
      "Python (\"nested loops\") [[1, 16, 888, 24.38], [2, 19, 893, 30.55], [3, 12, 710, 34.16]] equal :  None\n",
      "Python (\"rolling sums\") [[1, 16, 888, 24.38], [2, 19, 893, 30.55], [3, 12, 710, 34.16]] equal :  True\n",
      "Pandas (\"nested loops\") [[1, 16, 888, 24.38], [2, 19, 893, 30.55], [3, 12, 710, 34.16]] equal :  True\n",
      "Pandas (\"group/aggregate\") [[1, 16, 888, 24.38], [2, 19, 893, 30.55], [3, 12, 710, 34.16]] equal :  True\n",
      "Numpy (\"nested loops\") [[1, 16, 888, 24.38], [2, 19, 893, 30.55], [3, 12, 710, 34.16]] equal :  True\n",
      "Numpy (\"array split\") [[1, 16, 888, 24.38], [2, 19, 893, 30.55], [3, 12, 710, 34.16]] equal :  True\n"
     ]
    }
   ],
   "source": [
    "gc.collect()\n",
    "test_results = []\n",
    "prev_result = None\n",
    "for i in dispatcher:\n",
    "    result = i(dataset_python)\n",
    "    test_results.append(result)\n",
    "    if prev_result == None:\n",
    "        equal = None\n",
    "    else:\n",
    "        equal = (prev_result == result[0])\n",
    "    prev_result = result[0]\n",
    "    print (result[2],result[0][0:3],'equal : ',equal)"
   ]
  },
  {
   "cell_type": "code",
   "execution_count": 13,
   "metadata": {},
   "outputs": [
    {
     "data": {
      "text/plain": [
       "49"
      ]
     },
     "execution_count": 13,
     "metadata": {},
     "output_type": "execute_result"
    }
   ],
   "source": [
    "# clear memory\n",
    "del test_results \n",
    "gc.collect()"
   ]
  },
  {
   "cell_type": "markdown",
   "metadata": {},
   "source": [
    "## 08. Compare running time"
   ]
  },
  {
   "cell_type": "code",
   "execution_count": 14,
   "metadata": {
    "collapsed": true
   },
   "outputs": [],
   "source": [
    "NUM_ITERATIONS = 3"
   ]
  },
  {
   "cell_type": "code",
   "execution_count": 15,
   "metadata": {},
   "outputs": [
    {
     "name": "stdout",
     "output_type": "stream",
     "text": [
      "Python (\"nested loops\") 81.08451509475708 sec\n",
      "Python (\"rolling sums\") 0.08470582962036133 sec\n",
      "Pandas (\"nested loops\") 12.91911792755127 sec\n",
      "Pandas (\"group/aggregate\") 0.12034893035888672 sec\n",
      "Numpy (\"nested loops\") 6.156933069229126 sec\n",
      "Numpy (\"array split\") 0.47443199157714844 sec\n"
     ]
    }
   ],
   "source": [
    "running_time = []\n",
    "for i in dispatcher:\n",
    "    gc.collect()\n",
    "    alg_time = []\n",
    "    for j in range (NUM_ITERATIONS):\n",
    "        result = i(dataset_python)\n",
    "        alg_time.append(result[1])\n",
    "    print (result[2],min(alg_time),'sec')\n",
    "    running_time.append ([result[2],min(alg_time)])"
   ]
  },
  {
   "cell_type": "markdown",
   "metadata": {},
   "source": [
    "## 09. Present results"
   ]
  },
  {
   "cell_type": "code",
   "execution_count": 16,
   "metadata": {
    "collapsed": true
   },
   "outputs": [],
   "source": [
    "running_time = sorted(running_time, key=lambda item: item[1])\n",
    "base_time_1x = running_time[-1][1]"
   ]
  },
  {
   "cell_type": "code",
   "execution_count": 17,
   "metadata": {},
   "outputs": [
    {
     "data": {
      "image/png": "[encoded data removed]",
      "text/plain": [
       "<matplotlib.figure.Figure at 0x10aca92e8>"
      ]
     },
     "metadata": {},
     "output_type": "display_data"
    }
   ],
   "source": [
    "plt.style.use('fivethirtyeight')\n",
    "objects = [x[0] for x in running_time]\n",
    "y_rng = np.arange(len(objects))\n",
    "performance = [base_time_1x/x[1] for x in running_time]\n",
    "plt.barh(y_rng, performance, align='center', alpha=0.5)\n",
    "plt.yticks(y_rng, objects)\n",
    "plt.xlabel('Processing speed for ~100k rows')\n",
    "plt.title('Data processing speed \\n( Python \"nested loops\" = 1x)')\n",
    "for a,b in zip(performance, y_rng):\n",
    "    plt.text(a, b, \"  \"+str(round(a,2))+\"x\")\n",
    "plt.show()"
   ]
  }
 ],
 "metadata": {
  "kernelspec": {
   "display_name": "Python [conda env:python_3]",
   "language": "python",
   "name": "conda-env-python_3-py"
  },
  "language_info": {
   "codemirror_mode": {
    "name": "ipython",
    "version": 3
   },
   "file_extension": ".py",
   "mimetype": "text/x-python",
   "name": "python",
   "nbconvert_exporter": "python",
   "pygments_lexer": "ipython3",
   "version": "3.6.1"
  }
 },
 "nbformat": 4,
 "nbformat_minor": 2
}
